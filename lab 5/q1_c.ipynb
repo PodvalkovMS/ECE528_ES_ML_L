{
  "nbformat": 4,
  "nbformat_minor": 0,
  "metadata": {
    "kernelspec": {
      "display_name": "Python 3",
      "language": "python",
      "name": "python3"
    },
    "language_info": {
      "codemirror_mode": {
        "name": "ipython",
        "version": 3
      },
      "file_extension": ".py",
      "mimetype": "text/x-python",
      "name": "python",
      "nbconvert_exporter": "python",
      "pygments_lexer": "ipython3",
      "version": "3.9.5"
    },
    "nav_menu": {},
    "toc": {
      "navigate_menu": true,
      "number_sections": true,
      "sideBar": true,
      "threshold": 6,
      "toc_cell": false,
      "toc_section_display": "block",
      "toc_window_display": false
    },
    "colab": {
      "name": "q1_c.ipynb",
      "provenance": [],
      "collapsed_sections": [],
      "machine_shape": "hm"
    },
    "accelerator": "TPU"
  },
  "cells": [
    {
      "cell_type": "code",
      "metadata": {
        "id": "p8A12Kmmk24n"
      },
      "source": [
        "import sys\n",
        "import sklearn\n",
        "import tensorflow as tf\n",
        "from tensorflow import keras\n",
        "\n",
        "import numpy as np\n",
        "from numpy import load\n",
        "import os\n",
        "\n",
        "# to make this notebook's output stable across runs\n",
        "np.random.seed(42)\n",
        "tf.random.set_seed(42)\n",
        "\n",
        "# To plot pretty figures\n",
        "%matplotlib inline\n",
        "import matplotlib as mpl\n",
        "import matplotlib.pyplot as plt\n",
        "mpl.rc('axes', labelsize=14)\n",
        "mpl.rc('xtick', labelsize=12)\n",
        "mpl.rc('ytick', labelsize=12)\n",
        "\n",
        "# Where to save the figures\n",
        "PROJECT_ROOT_DIR = \".\"\n",
        "IMAGES_PATH = os.path.join(PROJECT_ROOT_DIR, \"images\")\n",
        "os.makedirs(IMAGES_PATH, exist_ok=True)\n",
        "\n",
        "def save_fig(fig_id, tight_layout=True, fig_extension=\"png\", resolution=300):\n",
        "    path = os.path.join(IMAGES_PATH, fig_id + \".\" + fig_extension)\n",
        "    print(\"Saving figure\", fig_id)\n",
        "    if tight_layout:\n",
        "        plt.tight_layout()\n",
        "    plt.savefig(path, format=fig_extension, dpi=resolution)"
      ],
      "execution_count": 1,
      "outputs": []
    },
    {
      "cell_type": "markdown",
      "metadata": {
        "id": "vxp38kpBk24r"
      },
      "source": [
        "### Load Dataset"
      ]
    },
    {
      "cell_type": "code",
      "metadata": {
        "id": "NBgSjNshk24s"
      },
      "source": [
        "def plot_learning_curves(loss, val_loss):\n",
        "    plt.plot(np.arange(len(loss)) + 0.5, loss, \"b.-\", label=\"Training loss\")\n",
        "    plt.plot(np.arange(len(val_loss)) + 1, val_loss, \"r.-\", label=\"Validation loss\")\n",
        "    plt.gca().xaxis.set_major_locator(mpl.ticker.MaxNLocator(integer=True))\n",
        "    plt.axis([1, 20, 0, 0.2])\n",
        "    plt.legend(fontsize=14)\n",
        "    plt.xlabel(\"Epochs\")\n",
        "    plt.ylabel(\"Loss\")\n",
        "    plt.grid(True)"
      ],
      "execution_count": 2,
      "outputs": []
    },
    {
      "cell_type": "code",
      "metadata": {
        "id": "9_85I4uzk24s"
      },
      "source": [
        "def plot_series(series, y=None, y_pred=None, x_label=\"$t$\", y_label=\"$x(t)$\"):\n",
        "    plt.plot(series, \".-\")\n",
        "    if y is not None:\n",
        "        plt.plot(n_steps, y, \"bx\", markersize=10)\n",
        "    if y_pred is not None:\n",
        "        plt.plot(n_steps, y_pred, \"ro\")\n",
        "    plt.grid(True)\n",
        "    if x_label:\n",
        "        plt.xlabel(x_label, fontsize=16)\n",
        "    if y_label:\n",
        "        plt.ylabel(y_label, fontsize=16, rotation=0)\n",
        "    plt.hlines(0, 0, 100, linewidth=1)\n",
        "    plt.axis([0, n_steps + 1, -1, 1])"
      ],
      "execution_count": 3,
      "outputs": []
    },
    {
      "cell_type": "code",
      "metadata": {
        "id": "q-siDbJtk24t"
      },
      "source": [
        "def plot_multiple_forecasts(X, Y, Y_pred):\n",
        "    n_steps = X.shape[1]\n",
        "    ahead = Y.shape[1]\n",
        "    plot_series(X[0, :, 0])\n",
        "    plt.plot(np.arange(n_steps, n_steps + ahead), Y[0, :, 0], \"ro-\", label=\"Actual\")\n",
        "    plt.plot(np.arange(n_steps, n_steps + ahead), Y_pred[0, :, 0], \"bx-\", label=\"Forecast\", markersize=10)\n",
        "    plt.axis([0, n_steps + ahead, -1, 1])\n",
        "    plt.legend(fontsize=14)"
      ],
      "execution_count": 4,
      "outputs": []
    },
    {
      "cell_type": "code",
      "metadata": {
        "id": "MH5ibNVgk24t"
      },
      "source": [
        "n_steps = 60\n",
        "series = load('univariate-time-series-multi-step.npy')\n",
        "\n",
        "X_train, y_train = series[:9000, :n_steps], series[:9000, -1] # -1 references the last column\n",
        "X_valid, y_valid = series[9000:11000, :n_steps], series[9000:11000, -1]\n",
        "X_test, y_test = series[11000:, :n_steps], series[11000:, -1]"
      ],
      "execution_count": 5,
      "outputs": []
    },
    {
      "cell_type": "markdown",
      "metadata": {
        "id": "qS8617--k24u"
      },
      "source": [
        "## Improving multi-step prediction model\n",
        "\n",
        "Instead of training the model to forecast the next 10 values only at the very last time step, we can train it to forecast the next 10 values at each and every time step. In other words, we can turn this sequence-to-vector RNN into a sequence-to-sequence RNN. The advantage of this technique is that the loss will contain a term for the output of the RNN at each and every time step, not just the output at the last time step. This means there will be many more error gradients flowing through the model, and they will also flow from the output of each time step. This will both stabilize and speed up training. To be clear, at time step 0 the model will output a vector containing the forecasts for time steps 1 to 10, then at time step 1 the model will forecast time steps 2 to 11, and so on. So each target must be a sequence of the same length as the input sequence, containing a 10-dimensional vector at each step. Let’s prepare these target sequences."
      ]
    },
    {
      "cell_type": "code",
      "metadata": {
        "id": "yY3Q8-E9k24v"
      },
      "source": [
        "Y = np.empty((12000, n_steps, 10)) "
      ],
      "execution_count": 6,
      "outputs": []
    },
    {
      "cell_type": "code",
      "metadata": {
        "id": "En4FdgdUk24v"
      },
      "source": [
        "# each target is a sequence of 10D vectors, because in each of the 60 time steps the model will predict 10 time steps\n",
        "for step_ahead in range(1, 10 + 1):\n",
        "    Y[..., step_ahead - 1] = series[..., step_ahead:step_ahead + n_steps, 0]\n",
        "    # same as     Y[:, :, step_ahead - 1] = series[:, step_ahead:step_ahead + n_steps, 0]\n",
        "    # broadcasting 1-61 to 0th element of z axis of each of the 10k rows\n",
        "    # then 2-62 to 1st element of z-axis ... all the way till 10-70 to 9th element of z axis of the 10k rows \n",
        "Y_train = Y[:9000]\n",
        "Y_valid = Y[9000:11000]\n",
        "Y_test = Y[11000:]"
      ],
      "execution_count": 7,
      "outputs": []
    },
    {
      "cell_type": "code",
      "metadata": {
        "colab": {
          "base_uri": "https://localhost:8080/"
        },
        "id": "orPsK6QNk24w",
        "outputId": "4d8b2884-4b9d-44d8-fb67-a0840c6c671a"
      },
      "source": [
        "X_train.shape, Y_train.shape"
      ],
      "execution_count": 8,
      "outputs": [
        {
          "output_type": "execute_result",
          "data": {
            "text/plain": [
              "((9000, 60, 1), (9000, 60, 10))"
            ]
          },
          "metadata": {},
          "execution_count": 8
        }
      ]
    },
    {
      "cell_type": "code",
      "metadata": {
        "colab": {
          "base_uri": "https://localhost:8080/"
        },
        "id": "1k73y8Xsk24x",
        "outputId": "43ccd059-6067-4e51-c5d0-32d9c4fe8a91"
      },
      "source": [
        "model = keras.models.Sequential([\n",
        "    keras.layers.LSTM(60, return_sequences=True,  input_shape=[60, 1]),\n",
        "    keras.layers.LSTM(30, return_sequences=True ),\n",
        "    keras.layers.TimeDistributed(keras.layers.Dense(60, activation='relu')),\n",
        "    keras.layers.TimeDistributed(keras.layers.Dropout(0.5)),    \n",
        "    keras.layers.TimeDistributed(keras.layers.Dense(10))\n",
        "])\n",
        "\n",
        "def last_time_step_mse(Y_true, Y_pred):\n",
        "    return keras.metrics.mean_squared_error(Y_true[:, -1], Y_pred[:, -1])\n",
        "\n",
        "model.compile(loss=\"mse\", optimizer=keras.optimizers.Adam(lr=0.01), metrics=[last_time_step_mse])\n",
        "history = model.fit(X_train, Y_train, epochs=20,\n",
        "                    validation_data=(X_valid, Y_valid))"
      ],
      "execution_count": 23,
      "outputs": [
        {
          "output_type": "stream",
          "name": "stderr",
          "text": [
            "/usr/local/lib/python3.7/dist-packages/keras/optimizer_v2/adam.py:105: UserWarning: The `lr` argument is deprecated, use `learning_rate` instead.\n",
            "  super(Adam, self).__init__(name, **kwargs)\n"
          ]
        },
        {
          "output_type": "stream",
          "name": "stdout",
          "text": [
            "Epoch 1/20\n",
            "282/282 [==============================] - 19s 55ms/step - loss: 0.0521 - last_time_step_mse: 0.0480 - val_loss: 0.0333 - val_last_time_step_mse: 0.0283\n",
            "Epoch 2/20\n",
            "282/282 [==============================] - 15s 52ms/step - loss: 0.0384 - last_time_step_mse: 0.0328 - val_loss: 0.0278 - val_last_time_step_mse: 0.0197\n",
            "Epoch 3/20\n",
            "282/282 [==============================] - 15s 52ms/step - loss: 0.0343 - last_time_step_mse: 0.0266 - val_loss: 0.0254 - val_last_time_step_mse: 0.0180\n",
            "Epoch 4/20\n",
            "282/282 [==============================] - 15s 52ms/step - loss: 0.0321 - last_time_step_mse: 0.0244 - val_loss: 0.0240 - val_last_time_step_mse: 0.0163\n",
            "Epoch 5/20\n",
            "282/282 [==============================] - 15s 53ms/step - loss: 0.0307 - last_time_step_mse: 0.0223 - val_loss: 0.0231 - val_last_time_step_mse: 0.0141\n",
            "Epoch 6/20\n",
            "282/282 [==============================] - 15s 54ms/step - loss: 0.0294 - last_time_step_mse: 0.0204 - val_loss: 0.0211 - val_last_time_step_mse: 0.0134\n",
            "Epoch 7/20\n",
            "282/282 [==============================] - 15s 54ms/step - loss: 0.0286 - last_time_step_mse: 0.0194 - val_loss: 0.0194 - val_last_time_step_mse: 0.0091\n",
            "Epoch 8/20\n",
            "282/282 [==============================] - 15s 54ms/step - loss: 0.0281 - last_time_step_mse: 0.0187 - val_loss: 0.0185 - val_last_time_step_mse: 0.0078\n",
            "Epoch 9/20\n",
            "282/282 [==============================] - 15s 52ms/step - loss: 0.0276 - last_time_step_mse: 0.0180 - val_loss: 0.0197 - val_last_time_step_mse: 0.0098\n",
            "Epoch 10/20\n",
            "282/282 [==============================] - 15s 53ms/step - loss: 0.0273 - last_time_step_mse: 0.0177 - val_loss: 0.0191 - val_last_time_step_mse: 0.0089\n",
            "Epoch 11/20\n",
            "282/282 [==============================] - 15s 53ms/step - loss: 0.0271 - last_time_step_mse: 0.0178 - val_loss: 0.0192 - val_last_time_step_mse: 0.0089\n",
            "Epoch 12/20\n",
            "282/282 [==============================] - 15s 53ms/step - loss: 0.0269 - last_time_step_mse: 0.0175 - val_loss: 0.0180 - val_last_time_step_mse: 0.0080\n",
            "Epoch 13/20\n",
            "282/282 [==============================] - 15s 54ms/step - loss: 0.0268 - last_time_step_mse: 0.0170 - val_loss: 0.0191 - val_last_time_step_mse: 0.0095\n",
            "Epoch 14/20\n",
            "282/282 [==============================] - 15s 54ms/step - loss: 0.0267 - last_time_step_mse: 0.0174 - val_loss: 0.0178 - val_last_time_step_mse: 0.0070\n",
            "Epoch 15/20\n",
            "282/282 [==============================] - 15s 52ms/step - loss: 0.0267 - last_time_step_mse: 0.0170 - val_loss: 0.0171 - val_last_time_step_mse: 0.0067\n",
            "Epoch 16/20\n",
            "282/282 [==============================] - 15s 53ms/step - loss: 0.0265 - last_time_step_mse: 0.0169 - val_loss: 0.0169 - val_last_time_step_mse: 0.0060\n",
            "Epoch 17/20\n",
            "282/282 [==============================] - 15s 55ms/step - loss: 0.0264 - last_time_step_mse: 0.0169 - val_loss: 0.0179 - val_last_time_step_mse: 0.0075\n",
            "Epoch 18/20\n",
            "282/282 [==============================] - 16s 55ms/step - loss: 0.0263 - last_time_step_mse: 0.0169 - val_loss: 0.0175 - val_last_time_step_mse: 0.0064\n",
            "Epoch 19/20\n",
            "282/282 [==============================] - 16s 55ms/step - loss: 0.0262 - last_time_step_mse: 0.0167 - val_loss: 0.0183 - val_last_time_step_mse: 0.0079\n",
            "Epoch 20/20\n",
            "282/282 [==============================] - 15s 54ms/step - loss: 0.0263 - last_time_step_mse: 0.0168 - val_loss: 0.0167 - val_last_time_step_mse: 0.0063\n"
          ]
        }
      ]
    },
    {
      "cell_type": "code",
      "metadata": {
        "colab": {
          "base_uri": "https://localhost:8080/",
          "height": 291
        },
        "id": "lUZqFCxnk24x",
        "outputId": "ba5f459e-edec-4f27-8548-48253dc92694"
      },
      "source": [
        "plot_learning_curves(history.history[\"loss\"], history.history[\"val_loss\"])\n",
        "plt.show()"
      ],
      "execution_count": 24,
      "outputs": [
        {
          "output_type": "display_data",
          "data": {
            "image/png": "[encoded data removed]",
            "text/plain": [
              "<Figure size 432x288 with 1 Axes>"
            ]
          },
          "metadata": {
            "needs_background": "light"
          }
        }
      ]
    },
    {
      "cell_type": "code",
      "metadata": {
        "id": "2Qno-wgKk24y"
      },
      "source": [
        "series = load('univariate-time-series-multi-step-test.npy')\n",
        "X_new, Y_new = series[:, :60, :], series[:, 60:, :]\n",
        "Y_pred = model.predict(X_new)[:, -1][..., np.newaxis]"
      ],
      "execution_count": 25,
      "outputs": []
    },
    {
      "cell_type": "code",
      "metadata": {
        "colab": {
          "base_uri": "https://localhost:8080/",
          "height": 293
        },
        "id": "oIdqU5QBk24y",
        "outputId": "d11ee244-79a5-4899-f594-d998d630b2e9"
      },
      "source": [
        "plot_multiple_forecasts(X_new, Y_new, Y_pred)\n",
        "plt.show()"
      ],
      "execution_count": 26,
      "outputs": [
        {
          "output_type": "display_data",
          "data": {
            "image/png": "[encoded data removed]",
            "text/plain": [
              "<Figure size 432x288 with 1 Axes>"
            ]
          },
          "metadata": {
            "needs_background": "light"
          }
        }
      ]
    },
    {
      "cell_type": "code",
      "metadata": {
        "colab": {
          "base_uri": "https://localhost:8080/"
        },
        "id": "8ufJv951k24y",
        "outputId": "a2d7ad94-dc0f-4396-bf8d-d658fe342e02"
      },
      "source": [
        "model.evaluate(X_test, Y_test)\n",
        "#outputs [loss (mse), last_time_step_mse]"
      ],
      "execution_count": 27,
      "outputs": [
        {
          "output_type": "stream",
          "name": "stdout",
          "text": [
            "32/32 [==============================] - 0s 13ms/step - loss: 0.0168 - last_time_step_mse: 0.0063\n"
          ]
        },
        {
          "output_type": "execute_result",
          "data": {
            "text/plain": [
              "[0.01675073616206646, 0.006274180952459574]"
            ]
          },
          "metadata": {},
          "execution_count": 27
        }
      ]
    }
  ]
}