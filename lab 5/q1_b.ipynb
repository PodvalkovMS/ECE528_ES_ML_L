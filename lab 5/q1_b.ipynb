{
  "nbformat": 4,
  "nbformat_minor": 0,
  "metadata": {
    "kernelspec": {
      "display_name": "Python 3",
      "language": "python",
      "name": "python3"
    },
    "language_info": {
      "codemirror_mode": {
        "name": "ipython",
        "version": 3
      },
      "file_extension": ".py",
      "mimetype": "text/x-python",
      "name": "python",
      "nbconvert_exporter": "python",
      "pygments_lexer": "ipython3",
      "version": "3.9.5"
    },
    "nav_menu": {},
    "toc": {
      "navigate_menu": true,
      "number_sections": true,
      "sideBar": true,
      "threshold": 6,
      "toc_cell": false,
      "toc_section_display": "block",
      "toc_window_display": false
    },
    "colab": {
      "name": "q1_b.ipynb",
      "provenance": [],
      "collapsed_sections": [],
      "machine_shape": "hm"
    },
    "accelerator": "TPU"
  },
  "cells": [
    {
      "cell_type": "code",
      "metadata": {
        "id": "jhfPf8xYfHyC"
      },
      "source": [
        "import sys\n",
        "import sklearn\n",
        "import tensorflow as tf\n",
        "from tensorflow import keras\n",
        "\n",
        "import numpy as np\n",
        "from numpy import load\n",
        "import os\n",
        "\n",
        "# to make this notebook's output stable across runs\n",
        "np.random.seed(42)\n",
        "tf.random.set_seed(42)\n",
        "\n",
        "# To plot pretty figures\n",
        "%matplotlib inline\n",
        "import matplotlib as mpl\n",
        "import matplotlib.pyplot as plt\n",
        "mpl.rc('axes', labelsize=14)\n",
        "mpl.rc('xtick', labelsize=12)\n",
        "mpl.rc('ytick', labelsize=12)\n",
        "\n",
        "# Where to save the figures\n",
        "PROJECT_ROOT_DIR = \".\"\n",
        "IMAGES_PATH = os.path.join(PROJECT_ROOT_DIR, \"images\")\n",
        "os.makedirs(IMAGES_PATH, exist_ok=True)\n",
        "\n",
        "def save_fig(fig_id, tight_layout=True, fig_extension=\"png\", resolution=300):\n",
        "    path = os.path.join(IMAGES_PATH, fig_id + \".\" + fig_extension)\n",
        "    print(\"Saving figure\", fig_id)\n",
        "    if tight_layout:\n",
        "        plt.tight_layout()\n",
        "    plt.savefig(path, format=fig_extension, dpi=resolution)"
      ],
      "execution_count": 1,
      "outputs": []
    },
    {
      "cell_type": "markdown",
      "metadata": {
        "id": "1ONFPOiCfHyH"
      },
      "source": [
        "### Load Dataset"
      ]
    },
    {
      "cell_type": "code",
      "metadata": {
        "id": "GhZjUn4rfHyI"
      },
      "source": [
        "def plot_learning_curves(loss, val_loss):\n",
        "    plt.plot(np.arange(len(loss)) + 0.5, loss, \"b.-\", label=\"Training loss\")\n",
        "    plt.plot(np.arange(len(val_loss)) + 1, val_loss, \"r.-\", label=\"Validation loss\")\n",
        "    plt.gca().xaxis.set_major_locator(mpl.ticker.MaxNLocator(integer=True))\n",
        "    plt.axis([1, 20, 0, 0.05])\n",
        "    plt.legend(fontsize=14)\n",
        "    plt.xlabel(\"Epochs\")\n",
        "    plt.ylabel(\"Loss\")\n",
        "    plt.grid(True)"
      ],
      "execution_count": 2,
      "outputs": []
    },
    {
      "cell_type": "code",
      "metadata": {
        "id": "-EFbFGuifHyJ"
      },
      "source": [
        "def plot_series(series, y=None, y_pred=None, x_label=\"$t$\", y_label=\"$x(t)$\"):\n",
        "    plt.plot(series, \".-\")\n",
        "    if y is not None:\n",
        "        plt.plot(n_steps, y, \"bx\", markersize=10)\n",
        "    if y_pred is not None:\n",
        "        plt.plot(n_steps, y_pred, \"ro\")\n",
        "    plt.grid(True)\n",
        "    if x_label:\n",
        "        plt.xlabel(x_label, fontsize=16)\n",
        "    if y_label:\n",
        "        plt.ylabel(y_label, fontsize=16, rotation=0)\n",
        "    plt.hlines(0, 0, 100, linewidth=1)\n",
        "    plt.axis([0, n_steps + 1, -1, 1])"
      ],
      "execution_count": 3,
      "outputs": []
    },
    {
      "cell_type": "code",
      "metadata": {
        "id": "rwtXzmD7fHyJ"
      },
      "source": [
        "def plot_multiple_forecasts(X, Y, Y_pred):\n",
        "    n_steps = X.shape[1]\n",
        "    ahead = Y.shape[1]\n",
        "    plot_series(X[0, :, 0])\n",
        "    plt.plot(np.arange(n_steps, n_steps + ahead), Y[0, :, 0], \"ro-\", label=\"Actual\")\n",
        "    plt.plot(np.arange(n_steps, n_steps + ahead), Y_pred[0, :, 0], \"bx-\", label=\"Forecast\", markersize=10)\n",
        "    plt.axis([0, n_steps + ahead, -1, 1])\n",
        "    plt.legend(fontsize=14)"
      ],
      "execution_count": 4,
      "outputs": []
    },
    {
      "cell_type": "markdown",
      "metadata": {
        "id": "ByUIPqQCfHyK"
      },
      "source": [
        "## Forecasting Several Steps Ahead\n",
        "\n",
        "If we want to predict the next 10 values, instead of just 1, we can modify our previous model to predict the next 10 values. We first need to load the dataset that has sequences with 9 more time steps."
      ]
    },
    {
      "cell_type": "code",
      "metadata": {
        "id": "rvqydpfIfHyK"
      },
      "source": [
        "n_steps = 60\n",
        "series = load('univariate-time-series-multi-step.npy')\n",
        "\n",
        "X_train, y_train = series[:9000, :n_steps], series[:9000, -1] # -1 references the last column\n",
        "X_valid, y_valid = series[9000:11000, :n_steps], series[9000:11000, -1]\n",
        "X_test, y_test = series[11000:, :n_steps], series[11000:, -1]"
      ],
      "execution_count": 6,
      "outputs": []
    },
    {
      "cell_type": "code",
      "metadata": {
        "colab": {
          "base_uri": "https://localhost:8080/"
        },
        "id": "-sRAQPuDfHyL",
        "outputId": "95ad8c0a-8860-4987-c826-f242bb33998b"
      },
      "source": [
        "#Improve upon this model with your own model\n",
        "\n",
        "model = keras.models.Sequential([\n",
        "    keras.layers.LSTM(60, return_sequences=True, input_shape=(60, 1)),\n",
        "    keras.layers.LSTM(30 ),\n",
        "    keras.layers.Dense(60, activation='relu'),\n",
        "    keras.layers.Dropout(0.5),\n",
        "    keras.layers.Dense(10)\n",
        "])\n",
        "\n",
        "model.compile(loss=\"mse\", optimizer=\"adam\")\n",
        "history = model.fit(X_train, y_train, epochs=20,\n",
        "                    validation_data=(X_valid, y_valid))"
      ],
      "execution_count": 7,
      "outputs": [
        {
          "output_type": "stream",
          "name": "stdout",
          "text": [
            "Epoch 1/20\n",
            "282/282 [==============================] - 18s 51ms/step - loss: 0.0967 - val_loss: 0.0506\n",
            "Epoch 2/20\n",
            "282/282 [==============================] - 14s 48ms/step - loss: 0.0513 - val_loss: 0.0354\n",
            "Epoch 3/20\n",
            "282/282 [==============================] - 14s 49ms/step - loss: 0.0398 - val_loss: 0.0331\n",
            "Epoch 4/20\n",
            "282/282 [==============================] - 14s 49ms/step - loss: 0.0374 - val_loss: 0.0329\n",
            "Epoch 5/20\n",
            "282/282 [==============================] - 14s 50ms/step - loss: 0.0355 - val_loss: 0.0317\n",
            "Epoch 6/20\n",
            "282/282 [==============================] - 14s 50ms/step - loss: 0.0356 - val_loss: 0.0312\n",
            "Epoch 7/20\n",
            "282/282 [==============================] - 14s 50ms/step - loss: 0.0343 - val_loss: 0.0306\n",
            "Epoch 8/20\n",
            "282/282 [==============================] - 14s 50ms/step - loss: 0.0346 - val_loss: 0.0307\n",
            "Epoch 9/20\n",
            "282/282 [==============================] - 14s 50ms/step - loss: 0.0337 - val_loss: 0.0287\n",
            "Epoch 10/20\n",
            "282/282 [==============================] - 14s 50ms/step - loss: 0.0337 - val_loss: 0.0305\n",
            "Epoch 11/20\n",
            "282/282 [==============================] - 14s 50ms/step - loss: 0.0322 - val_loss: 0.0302\n",
            "Epoch 12/20\n",
            "282/282 [==============================] - 14s 51ms/step - loss: 0.0331 - val_loss: 0.0305\n",
            "Epoch 13/20\n",
            "282/282 [==============================] - 14s 50ms/step - loss: 0.0320 - val_loss: 0.0281\n",
            "Epoch 14/20\n",
            "282/282 [==============================] - 14s 51ms/step - loss: 0.0302 - val_loss: 0.0236\n",
            "Epoch 15/20\n",
            "282/282 [==============================] - 14s 50ms/step - loss: 0.0281 - val_loss: 0.0239\n",
            "Epoch 16/20\n",
            "282/282 [==============================] - 14s 50ms/step - loss: 0.0272 - val_loss: 0.0246\n",
            "Epoch 17/20\n",
            "282/282 [==============================] - 14s 50ms/step - loss: 0.0269 - val_loss: 0.0240\n",
            "Epoch 18/20\n",
            "282/282 [==============================] - 13s 47ms/step - loss: 0.0263 - val_loss: 0.0245\n",
            "Epoch 19/20\n",
            "282/282 [==============================] - 12s 44ms/step - loss: 0.0256 - val_loss: 0.0210\n",
            "Epoch 20/20\n",
            "282/282 [==============================] - 12s 44ms/step - loss: 0.0248 - val_loss: 0.0248\n"
          ]
        }
      ]
    },
    {
      "cell_type": "code",
      "metadata": {
        "colab": {
          "base_uri": "https://localhost:8080/",
          "height": 291
        },
        "id": "P58-35WgfHyM",
        "outputId": "defed279-ad58-482b-815f-9de552882a52"
      },
      "source": [
        "plot_learning_curves(history.history[\"loss\"], history.history[\"val_loss\"])\n",
        "plt.show()"
      ],
      "execution_count": 8,
      "outputs": [
        {
          "output_type": "display_data",
          "data": {
            "image/png": "[encoded data removed]",
            "text/plain": [
              "<Figure size 432x288 with 1 Axes>"
            ]
          },
          "metadata": {
            "needs_background": "light"
          }
        }
      ]
    },
    {
      "cell_type": "markdown",
      "metadata": {
        "id": "JeJI5NzEfHyN"
      },
      "source": [
        "Now let's predict the next 10 values:"
      ]
    },
    {
      "cell_type": "code",
      "metadata": {
        "id": "re3D_K2-fHyN"
      },
      "source": [
        "series = load('univariate-time-series-multi-step-test.npy')\n",
        "X_new, Y_new = series[:, :60, :], series[:, -10:, :]\n",
        "Y_pred = model.predict(X_new)[..., np.newaxis]"
      ],
      "execution_count": 9,
      "outputs": []
    },
    {
      "cell_type": "code",
      "metadata": {
        "id": "pDqpy_0ZfHyN",
        "colab": {
          "base_uri": "https://localhost:8080/",
          "height": 293
        },
        "outputId": "2fa990a6-a56c-4d3e-f837-156fd1517758"
      },
      "source": [
        "plot_multiple_forecasts(X_new, Y_new, Y_pred)\n",
        "plt.show()"
      ],
      "execution_count": 10,
      "outputs": [
        {
          "output_type": "display_data",
          "data": {
            "image/png": "[encoded data removed]",
            "text/plain": [
              "<Figure size 432x288 with 1 Axes>"
            ]
          },
          "metadata": {
            "needs_background": "light"
          }
        }
      ]
    },
    {
      "cell_type": "code",
      "metadata": {
        "colab": {
          "base_uri": "https://localhost:8080/"
        },
        "id": "10z2L2tmfHyO",
        "outputId": "091eb118-135b-4688-a124-c4730a986d9c"
      },
      "source": [
        "model.evaluate(X_test, y_test)"
      ],
      "execution_count": 11,
      "outputs": [
        {
          "output_type": "stream",
          "name": "stdout",
          "text": [
            "32/32 [==============================] - 0s 12ms/step - loss: 0.0225\n"
          ]
        },
        {
          "output_type": "execute_result",
          "data": {
            "text/plain": [
              "0.02248554490506649"
            ]
          },
          "metadata": {},
          "execution_count": 11
        }
      ]
    },
    {
      "cell_type": "code",
      "metadata": {
        "id": "3yIAXucwfHyO"
      },
      "source": [
        ""
      ],
      "execution_count": null,
      "outputs": []
    }
  ]
}