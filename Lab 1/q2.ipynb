{
  "nbformat": 4,
  "nbformat_minor": 0,
  "metadata": {
    "accelerator": "GPU",
    "colab": {
      "name": "q2.ipynb",
      "private_outputs": true,
      "provenance": [],
      "collapsed_sections": [],
      "toc_visible": true
    },
    "kernelspec": {
      "display_name": "Python 3 (ipykernel)",
      "language": "python",
      "name": "python3"
    },
    "language_info": {
      "codemirror_mode": {
        "name": "ipython",
        "version": 3
      },
      "file_extension": ".py",
      "mimetype": "text/x-python",
      "name": "python",
      "nbconvert_exporter": "python",
      "pygments_lexer": "ipython3",
      "version": "3.9.7"
    }
  },
  "cells": [
    {
      "cell_type": "markdown",
      "metadata": {
        "id": "m7KBpffWzlxH"
      },
      "source": [
        "### Import TensorFlow"
      ]
    },
    {
      "cell_type": "code",
      "metadata": {
        "id": "iAve6DCL4JH4"
      },
      "source": [
        "import tensorflow as tf\n",
        "from tensorflow.keras import datasets, layers, models\n",
        "import matplotlib.pyplot as plt\n",
        "from tensorflow import keras"
      ],
      "execution_count": null,
      "outputs": []
    },
    {
      "cell_type": "markdown",
      "metadata": {
        "id": "jRFxccghyMVo"
      },
      "source": [
        "### Download and prepare the CIFAR10 dataset\n",
        "\n",
        "\n",
        "The CIFAR10 dataset contains 60,000 color images in 10 classes, with 6,000 images in each class. The dataset is divided into 50,000 training images and 10,000 testing images. The classes are mutually exclusive and there is no overlap between them."
      ]
    },
    {
      "cell_type": "code",
      "metadata": {
        "id": "JWoEqyMuXFF4"
      },
      "source": [
        "(train_images, train_labels), (test_images, test_labels) = datasets.cifar10.load_data()\n",
        "\n",
        "# Normalize pixel values to be between 0 and 1\n",
        "train_images, test_images = train_images / 255.0, test_images / 255.0"
      ],
      "execution_count": null,
      "outputs": []
    },
    {
      "cell_type": "markdown",
      "metadata": {
        "id": "7wArwCTJJlUa"
      },
      "source": [
        "### Verify the data\n",
        "\n",
        "To verify that the dataset looks correct, let's plot the first 25 images from the training set and display the class name below each image.\n"
      ]
    },
    {
      "cell_type": "code",
      "metadata": {
        "id": "K3PAELE2eSU9"
      },
      "source": [
        "class_names = ['airplane', 'automobile', 'bird', 'cat', 'deer',\n",
        "               'dog', 'frog', 'horse', 'ship', 'truck']\n",
        "\n",
        "plt.figure(figsize=(10,10))\n",
        "for i in range(25):\n",
        "    plt.subplot(5,5,i+1)\n",
        "    plt.xticks([])\n",
        "    plt.yticks([])\n",
        "    plt.grid(False)\n",
        "    plt.imshow(train_images[i], cmap=plt.cm.binary)\n",
        "    # The CIFAR labels happen to be arrays, \n",
        "    # which is why you need the extra index\n",
        "    plt.xlabel(class_names[train_labels[i][0]])\n",
        "plt.show()"
      ],
      "execution_count": null,
      "outputs": []
    },
    {
      "cell_type": "markdown",
      "metadata": {
        "id": "Oewp-wYg31t9"
      },
      "source": [
        "### Create the model (your code goes here)"
      ]
    },
    {
      "cell_type": "code",
      "metadata": {
        "id": "L9YmGQBQPrdn"
      },
      "source": [
        "#setup model\n",
        "model = keras.Sequential([\n",
        "   \n",
        "    \n",
        "    keras.layers.Conv2D(kernel_size=3, filters=32,  padding='same', use_bias=False, input_shape=(32, 32 , 3)),\n",
        "    keras.layers.BatchNormalization(center=True, scale=False),\n",
        "    keras.layers.Activation('relu'),\n",
        "\n",
        "    keras.layers.Conv2D(kernel_size=3, filters=32,  padding='same', use_bias=False),\n",
        "    keras.layers.BatchNormalization(center=True, scale=False),\n",
        "    keras.layers.Activation('relu'),\n",
        "\n",
        "    keras.layers.MaxPooling2D(pool_size=(2, 2), strides=2 ),\n",
        "    keras.layers.Dropout(0.1),\n",
        "\n",
        "    keras.layers.Conv2D(kernel_size=3, filters=64,  padding='same', use_bias=False),\n",
        "    keras.layers.BatchNormalization(center=True, scale=False),\n",
        "    keras.layers.Activation('relu'),\n",
        "\n",
        "    keras.layers.Conv2D(kernel_size=3, filters=64,  padding='same', use_bias=False),\n",
        "    keras.layers.BatchNormalization(center=True, scale=False),\n",
        "    keras.layers.Activation('relu'),\n",
        "\n",
        "\n",
        "    keras.layers.MaxPooling2D(pool_size=(2, 2), strides=2 ),\n",
        "    keras.layers.Dropout(0.2),\n",
        "    \n",
        "    \n",
        "    keras.layers.Conv2D(kernel_size=3, filters=128,  padding='same', use_bias=False),\n",
        "    keras.layers.BatchNormalization(center=True, scale=False),\n",
        "    keras.layers.Activation('relu'),\n",
        "\n",
        "    keras.layers.Conv2D(kernel_size=3, filters=128,  padding='same', use_bias=False),\n",
        "    keras.layers.BatchNormalization(center=True, scale=False),\n",
        "    keras.layers.Activation('relu'),\n",
        "\n",
        "\n",
        "    \n",
        "    keras.layers.MaxPooling2D(pool_size=(2, 2), strides=2 ),\n",
        "    keras.layers.Dropout(0.3),\n",
        "    \n",
        "   \n",
        "    \n",
        "    keras.layers.Flatten(),\n",
        "\n",
        "    \n",
        "\n",
        "    keras.layers.Dense(128, use_bias=False),\n",
        "    keras.layers.BatchNormalization(center=True, scale=False),\n",
        "    keras.layers.Activation('relu'),\n",
        "    \n",
        "    #keras.layers.Dropout(0.4),\n",
        "    \n",
        "    #keras.layers.Dense(128, use_bias=False),\n",
        "    #keras.layers.BatchNormalization(center=True, scale=False),\n",
        "    #keras.layers.Activation('relu'),\n",
        "    \n",
        "    #keras.layers.Dropout(0.2),\n",
        "    \n",
        "    keras.layers.Dense(10, activation = tf.nn.softmax)\n",
        "])\n",
        "model.summary()"
      ],
      "execution_count": null,
      "outputs": []
    },
    {
      "cell_type": "markdown",
      "metadata": {
        "id": "P3odqfHP4M67"
      },
      "source": [
        "### Compile and train the model"
      ]
    },
    {
      "cell_type": "code",
      "metadata": {
        "id": "MdDzI75PUXrG"
      },
      "source": [
        "model.compile(optimizer='adam',\n",
        "              loss=tf.keras.losses.SparseCategoricalCrossentropy(from_logits=True),\n",
        "              metrics=['accuracy'])\n",
        "\n",
        "history = model.fit(train_images, train_labels, epochs=20, \n",
        "                    validation_data=(test_images, test_labels))"
      ],
      "execution_count": null,
      "outputs": []
    },
    {
      "cell_type": "markdown",
      "metadata": {
        "id": "jKgyC5K_4O0d"
      },
      "source": [
        "### Evaluate the model"
      ]
    },
    {
      "cell_type": "code",
      "metadata": {
        "id": "gtyDF0MKUcM7"
      },
      "source": [
        "plt.plot(history.history['accuracy'], label='accuracy')\n",
        "plt.plot(history.history['val_accuracy'], label = 'val_accuracy')\n",
        "plt.xlabel('Epoch')\n",
        "plt.ylabel('Accuracy')\n",
        "plt.ylim([0.5, 1])\n",
        "plt.legend(loc='lower right')\n",
        "\n",
        "test_loss, test_acc = model.evaluate(test_images,  test_labels, verbose=2)"
      ],
      "execution_count": null,
      "outputs": []
    },
    {
      "cell_type": "code",
      "metadata": {
        "id": "0LvwaKhtUdOo"
      },
      "source": [
        "print(test_acc)"
      ],
      "execution_count": null,
      "outputs": []
    }
  ]
}