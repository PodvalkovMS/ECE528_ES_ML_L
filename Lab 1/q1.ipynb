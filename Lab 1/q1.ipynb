{
  "nbformat": 4,
  "nbformat_minor": 0,
  "metadata": {
    "colab": {
      "name": "q1.ipynb",
      "provenance": [],
      "collapsed_sections": []
    },
    "kernelspec": {
      "display_name": "Python 3 (ipykernel)",
      "language": "python",
      "name": "python3"
    },
    "language_info": {
      "codemirror_mode": {
        "name": "ipython",
        "version": 3
      },
      "file_extension": ".py",
      "mimetype": "text/x-python",
      "name": "python",
      "nbconvert_exporter": "python",
      "pygments_lexer": "ipython3",
      "version": "3.9.7"
    }
  },
  "cells": [
    {
      "cell_type": "code",
      "metadata": {
        "colab": {
          "base_uri": "https://localhost:8080/",
          "height": 35
        },
        "id": "opdFPDUIUwFr",
        "outputId": "73ecf9fa-30a6-4ac4-973c-4bf4f437b6b6"
      },
      "source": [
        "# TensorFlow and tf.keras\n",
        "import math\n",
        "import tensorflow as tf\n",
        "import numpy as np\n",
        "from tensorflow import keras\n",
        "\n",
        "\n",
        "#tf version should be 2.5 or higher\n",
        "tf.__version__"
      ],
      "execution_count": 1,
      "outputs": [
        {
          "output_type": "execute_result",
          "data": {
            "application/vnd.google.colaboratory.intrinsic+json": {
              "type": "string"
            },
            "text/plain": [
              "'2.6.0'"
            ]
          },
          "metadata": {},
          "execution_count": 1
        }
      ]
    },
    {
      "cell_type": "code",
      "metadata": {
        "colab": {
          "base_uri": "https://localhost:8080/"
        },
        "id": "Jzfr5k5m1otH",
        "outputId": "3e1da0d1-36d8-42ef-ac9d-45043d0c7a0a"
      },
      "source": [
        "#get data\n",
        "(train_images, train_labels), (test_images, test_labels) = \\\n",
        "      keras.datasets.mnist.load_data()"
      ],
      "execution_count": 2,
      "outputs": [
        {
          "output_type": "stream",
          "name": "stdout",
          "text": [
            "Downloading data from https://storage.googleapis.com/tensorflow/tf-keras-datasets/mnist.npz\n",
            "11493376/11490434 [==============================] - 0s 0us/step\n",
            "11501568/11490434 [==============================] - 0s 0us/step\n"
          ]
        }
      ]
    },
    {
      "cell_type": "code",
      "metadata": {
        "id": "QMvNnbXx1otH"
      },
      "source": [
        "#scale model\n",
        "train_images = train_images / 255.0\n",
        "test_images = test_images / 255.0"
      ],
      "execution_count": 3,
      "outputs": []
    },
    {
      "cell_type": "code",
      "metadata": {
        "id": "iiqFFAap1otI"
      },
      "source": [
        "#reshape\n",
        "train_images=train_images.reshape(train_images.shape[0],28,28,1)\n",
        "test_images=test_images.reshape(test_images.shape[0],28,28,1)"
      ],
      "execution_count": 4,
      "outputs": []
    },
    {
      "cell_type": "code",
      "metadata": {
        "id": "-iSr-1N_1otI"
      },
      "source": [
        "#setup model\n",
        "model = keras.Sequential([\n",
        "   \n",
        "    \n",
        "    keras.layers.Conv2D(kernel_size=3, filters=32, use_bias=False, padding='same', input_shape=(28, 28 , 1)),\n",
        "    keras.layers.BatchNormalization(center=True, scale=False),\n",
        "    keras.layers.Activation('relu'),\n",
        "    \n",
        "    \n",
        "    #tf.keras.layers.MaxPooling2D(pool_size=(2, 2), strides=2),\n",
        "    \n",
        "    \n",
        "    \n",
        "    keras.layers.Conv2D(kernel_size=6, filters=64, use_bias=False, padding='same', strides=2),\n",
        "    keras.layers.BatchNormalization(center=True, scale=False),\n",
        "    keras.layers.Activation('relu'),\n",
        "    \n",
        "    #tf.keras.layers.MaxPooling2D(pool_size=(2, 2), strides=2),\n",
        "    \n",
        "   \n",
        "    \n",
        "    keras.layers.Conv2D(kernel_size=6, filters=64, use_bias=False, padding='same', strides=2),\n",
        "    keras.layers.BatchNormalization(center=True, scale=False),\n",
        "    keras.layers.Activation('relu'),\n",
        "    \n",
        "        \n",
        "    \n",
        "    #tf.keras.layers.MaxPooling2D(pool_size=(2, 2), strides=2),\n",
        "    \n",
        "   \n",
        "    \n",
        "    keras.layers.Flatten(),\n",
        "    \n",
        "    keras.layers.Dense(256, use_bias=False),\n",
        "    keras.layers.BatchNormalization(center=True, scale=False),\n",
        "    keras.layers.Activation('relu'),\n",
        "    keras.layers.Dropout(0.3),\n",
        "    \n",
        "    keras.layers.Dense(128, use_bias=False),\n",
        "    keras.layers.BatchNormalization(center=True, scale=False),\n",
        "    keras.layers.Activation('relu'),\n",
        "    keras.layers.Dropout(0.3),\n",
        "    \n",
        "    keras.layers.Dense(64, use_bias=False),\n",
        "    keras.layers.BatchNormalization(center=True, scale=False),\n",
        "    keras.layers.Activation('relu'),\n",
        "    keras.layers.Dropout(0.3),\n",
        "    \n",
        "    keras.layers.Dense(10, activation = tf.nn.softmax)\n",
        "])"
      ],
      "execution_count": 5,
      "outputs": []
    },
    {
      "cell_type": "code",
      "metadata": {
        "id": "JymcotIz1otJ"
      },
      "source": [
        "#compile model\n",
        "model.compile(optimizer=tf.keras.optimizers.Adam(learning_rate=0.01),\n",
        "          loss='sparse_categorical_crossentropy',\n",
        "          metrics=['accuracy'])"
      ],
      "execution_count": 6,
      "outputs": []
    },
    {
      "cell_type": "code",
      "metadata": {
        "id": "i9-jct_11otK"
      },
      "source": [
        "def lr_decay(epoch):\n",
        "    return 0.01*math.pow(0.6, epoch)\n",
        "\n",
        "lr_decay_callback=tf.keras.callbacks.LearningRateScheduler(lr_decay)"
      ],
      "execution_count": 7,
      "outputs": []
    },
    {
      "cell_type": "code",
      "metadata": {
        "colab": {
          "base_uri": "https://localhost:8080/"
        },
        "id": "xpnI-sHH1otK",
        "outputId": "425945e3-93d4-4ab4-f295-21c0521e747c"
      },
      "source": [
        "#train model\n",
        "model.fit(train_images, train_labels, epochs=10, callbacks=[lr_decay_callback])"
      ],
      "execution_count": 8,
      "outputs": [
        {
          "output_type": "stream",
          "name": "stdout",
          "text": [
            "Epoch 1/10\n",
            "1875/1875 [==============================] - 247s 131ms/step - loss: 0.2138 - accuracy: 0.9398\n",
            "Epoch 2/10\n",
            "1875/1875 [==============================] - 245s 131ms/step - loss: 0.0844 - accuracy: 0.9768\n",
            "Epoch 3/10\n",
            "1875/1875 [==============================] - 244s 130ms/step - loss: 0.0531 - accuracy: 0.9860\n",
            "Epoch 4/10\n",
            "1875/1875 [==============================] - 244s 130ms/step - loss: 0.0378 - accuracy: 0.9897\n",
            "Epoch 5/10\n",
            "1875/1875 [==============================] - 245s 130ms/step - loss: 0.0257 - accuracy: 0.9932\n",
            "Epoch 6/10\n",
            "1875/1875 [==============================] - 245s 131ms/step - loss: 0.0177 - accuracy: 0.9947\n",
            "Epoch 7/10\n",
            "1875/1875 [==============================] - 246s 131ms/step - loss: 0.0141 - accuracy: 0.9958\n",
            "Epoch 8/10\n",
            "1875/1875 [==============================] - 247s 132ms/step - loss: 0.0118 - accuracy: 0.9967\n",
            "Epoch 9/10\n",
            "1875/1875 [==============================] - 250s 133ms/step - loss: 0.0096 - accuracy: 0.9973\n",
            "Epoch 10/10\n",
            "1875/1875 [==============================] - 250s 133ms/step - loss: 0.0088 - accuracy: 0.9974\n"
          ]
        },
        {
          "output_type": "execute_result",
          "data": {
            "text/plain": [
              "<keras.callbacks.History at 0x7f7299a0ff90>"
            ]
          },
          "metadata": {},
          "execution_count": 8
        }
      ]
    },
    {
      "cell_type": "code",
      "metadata": {
        "colab": {
          "base_uri": "https://localhost:8080/"
        },
        "id": "kojWLlkY1otL",
        "outputId": "68e98efb-ed67-40f4-dd54-295dc9107558"
      },
      "source": [
        "#evaluate\n",
        "test_loss, test_acc = model.evaluate(test_images,  test_labels)\n",
        "print('\\nTest accuracy:', test_acc)"
      ],
      "execution_count": 9,
      "outputs": [
        {
          "output_type": "stream",
          "name": "stdout",
          "text": [
            "313/313 [==============================] - 8s 25ms/step - loss: 0.0163 - accuracy: 0.9950\n",
            "\n",
            "Test accuracy: 0.9950000047683716\n"
          ]
        }
      ]
    },
    {
      "cell_type": "code",
      "metadata": {
        "id": "ORkWspit1otM"
      },
      "source": [
        "# Predict on the first 5 test images.\n",
        "predictions = model.predict(test_images[:5])"
      ],
      "execution_count": null,
      "outputs": []
    },
    {
      "cell_type": "code",
      "metadata": {
        "id": "tbnEa9Kj1otM",
        "outputId": "fdf720a4-1847-402b-b3ac-b78c6aa30a42"
      },
      "source": [
        "#Raw predictions\n",
        "predictions"
      ],
      "execution_count": null,
      "outputs": [
        {
          "data": {
            "text/plain": [
              "array([[1.2523764e-09, 9.1230100e-07, 4.7761762e-07, 8.9712466e-07,\n",
              "        4.4385740e-07, 4.1498016e-08, 9.2217969e-12, 9.9999559e-01,\n",
              "        5.4965977e-08, 1.4967979e-06],\n",
              "       [8.5884686e-08, 1.6424811e-07, 9.9999952e-01, 1.2873276e-08,\n",
              "        2.5538798e-08, 1.5080331e-11, 2.2825381e-08, 1.4704415e-07,\n",
              "        2.3606546e-09, 2.5330786e-11],\n",
              "       [2.7234444e-11, 9.9999940e-01, 2.5297253e-09, 3.5369414e-09,\n",
              "        9.0597830e-08, 1.1610818e-08, 2.6518030e-08, 3.0610499e-07,\n",
              "        7.4357622e-08, 1.4459318e-09],\n",
              "       [9.9999976e-01, 8.6670966e-12, 2.5627600e-09, 5.8724264e-10,\n",
              "        9.4014657e-11, 2.4910289e-09, 1.8254835e-07, 2.4355520e-10,\n",
              "        1.0425596e-08, 1.3563608e-08],\n",
              "       [1.1657989e-09, 2.2025401e-07, 1.2701255e-08, 2.8270347e-10,\n",
              "        9.9998403e-01, 1.4407981e-08, 5.4962722e-08, 2.1084951e-08,\n",
              "        9.2523301e-08, 1.5554180e-05]], dtype=float32)"
            ]
          },
          "execution_count": 54,
          "metadata": {},
          "output_type": "execute_result"
        }
      ]
    },
    {
      "cell_type": "code",
      "metadata": {
        "id": "k9pAO46p1otM",
        "outputId": "0353bde8-f8bb-4cda-a4cc-784e64187d59"
      },
      "source": [
        "# Print our model's predictions\n",
        "print(np.argmax(predictions, axis=1))"
      ],
      "execution_count": null,
      "outputs": [
        {
          "name": "stdout",
          "output_type": "stream",
          "text": [
            "[7 2 1 0 4]\n"
          ]
        }
      ]
    },
    {
      "cell_type": "code",
      "metadata": {
        "id": "QkjNYlJ01otN",
        "outputId": "0ff16e75-e166-4e3d-d70a-f363b875f793"
      },
      "source": [
        "# Check our predictions against the ground truths\n",
        "print(test_labels[:5]) # [7, 2, 1, 0, 4]"
      ],
      "execution_count": null,
      "outputs": [
        {
          "name": "stdout",
          "output_type": "stream",
          "text": [
            "[7 2 1 0 4]\n"
          ]
        }
      ]
    },
    {
      "cell_type": "code",
      "metadata": {
        "id": "gN2LZyap1otN"
      },
      "source": [
        ""
      ],
      "execution_count": null,
      "outputs": []
    },
    {
      "cell_type": "code",
      "metadata": {
        "id": "bv30uI_H1otN"
      },
      "source": [
        ""
      ],
      "execution_count": null,
      "outputs": []
    }
  ]
}