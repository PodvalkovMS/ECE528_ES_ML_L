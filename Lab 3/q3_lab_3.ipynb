{
  "cells": [
    {
      "cell_type": "code",
      "execution_count": 210,
      "metadata": {
        "colab": {
          "base_uri": "https://localhost:8080/",
          "height": 35
        },
        "id": "opdFPDUIUwFr",
        "outputId": "301b92d3-3b55-4ef5-eded-2d9e5716cdca"
      },
      "outputs": [
        {
          "data": {
            "application/vnd.google.colaboratory.intrinsic+json": {
              "type": "string"
            },
            "text/plain": [
              "'2.6.0'"
            ]
          },
          "execution_count": 210,
          "metadata": {},
          "output_type": "execute_result"
        }
      ],
      "source": [
        "# TensorFlow and tf.keras\n",
        "import math\n",
        "import pandas as pd\n",
        "import tensorflow as tf\n",
        "import numpy as np\n",
        "from tensorflow import keras\n",
        "\n",
        "\n",
        "#tf version should be 2.5 or higher\n",
        "tf.__version__"
      ]
    },
    {
      "cell_type": "code",
      "execution_count": 211,
      "metadata": {
        "id": "uH3h_g1UCZNY"
      },
      "outputs": [],
      "source": [
        "train=pd.read_csv('sign_mnist_train.csv')\n",
        "test=pd.read_csv('sign_mnist_test.csv')"
      ]
    },
    {
      "cell_type": "code",
      "execution_count": 212,
      "metadata": {
        "id": "kHMhh-4IDKmV"
      },
      "outputs": [],
      "source": [
        "train_images=train.values[0:,1:]\n",
        "\n",
        "test_images=test.values[0:,1:]"
      ]
    },
    {
      "cell_type": "code",
      "execution_count": 213,
      "metadata": {
        "id": "2sCflcznJoZO"
      },
      "outputs": [],
      "source": [
        "labels = train.values[0:,0]\n",
        "\n",
        "\n",
        "\n",
        "\n",
        "labels_test = test.values[0:,0]\n"
      ]
    },
    {
      "cell_type": "code",
      "execution_count": 214,
      "metadata": {
        "id": "8PK5gM9CDrx4"
      },
      "outputs": [],
      "source": [
        "train_images=train_images/255\n",
        "train_images=train_images.reshape((27455,28,28,1))\n",
        "\n",
        "test_images=test_images/255\n",
        "\n",
        "test_images=test_images.reshape((7172, 28,28,1))\n"
      ]
    },
    {
      "cell_type": "code",
      "execution_count": 215,
      "metadata": {
        "id": "-iSr-1N_1otI"
      },
      "outputs": [],
      "source": [
        "#setup model\n",
        "model = keras.Sequential([\n",
        "   \n",
        "    \n",
        "    keras.layers.Conv2D(kernel_size=3, filters=32, use_bias=False, padding='same', input_shape=(28, 28 , 1)),\n",
        "    keras.layers.BatchNormalization(center=True, scale=False),\n",
        "    keras.layers.Activation('relu'),\n",
        "    \n",
        "    \n",
        "    keras.layers.MaxPooling2D(pool_size=(2, 2), strides=2),\n",
        "    \n",
        "    \n",
        "    \n",
        "    keras.layers.Conv2D(kernel_size=6, filters=64, use_bias=False, padding='same', strides=2),\n",
        "    keras.layers.BatchNormalization(center=True, scale=False),\n",
        "    keras.layers.Activation('relu'),\n",
        "    \n",
        "    keras.layers.MaxPooling2D(pool_size=(2, 2), strides=2),\n",
        "    \n",
        "   \n",
        "    \n",
        "    keras.layers.Conv2D(kernel_size=6, filters=64, use_bias=False, padding='same', strides=2),\n",
        "    keras.layers.BatchNormalization(center=True, scale=False),\n",
        "    keras.layers.Activation('relu'),\n",
        "    \n",
        "        \n",
        "    \n",
        "    keras.layers.MaxPooling2D(pool_size=(2, 2), strides=2),\n",
        "    \n",
        "   \n",
        "    \n",
        "    keras.layers.Flatten(),\n",
        "    \n",
        "\n",
        "    \n",
        "    keras.layers.Dense(64, use_bias=False),\n",
        "    keras.layers.Activation('relu'),\n",
        "    keras.layers.Dropout(0.3),\n",
        "    keras.layers.Dense(25, activation = tf.nn.softmax)\n",
        "])"
      ]
    },
    {
      "cell_type": "code",
      "execution_count": 216,
      "metadata": {
        "id": "JymcotIz1otJ"
      },
      "outputs": [],
      "source": [
        "#compile model\n",
        "model.compile(optimizer=tf.keras.optimizers.Adam(learning_rate=0.01),\n",
        "          loss='sparse_categorical_crossentropy',\n",
        "          metrics=['accuracy'])"
      ]
    },
    {
      "cell_type": "code",
      "execution_count": 217,
      "metadata": {
        "id": "i9-jct_11otK"
      },
      "outputs": [],
      "source": [
        "def lr_decay(epoch):\n",
        "    return 0.01*math.pow(0.6, epoch)\n",
        "\n",
        "lr_decay_callback=tf.keras.callbacks.LearningRateScheduler(lr_decay)"
      ]
    },
    {
      "cell_type": "code",
      "execution_count": 218,
      "metadata": {
        "colab": {
          "base_uri": "https://localhost:8080/"
        },
        "id": "xpnI-sHH1otK",
        "outputId": "bb081008-8210-4c90-aa69-efbff00c60f8"
      },
      "outputs": [
        {
          "name": "stdout",
          "output_type": "stream",
          "text": [
            "Epoch 1/6\n",
            "387/387 [==============================] - 12s 29ms/step - loss: 1.1794 - accuracy: 0.6012 - val_loss: 0.7804 - val_accuracy: 0.7174\n",
            "Epoch 2/6\n",
            "387/387 [==============================] - 11s 29ms/step - loss: 0.1998 - accuracy: 0.9282 - val_loss: 0.8429 - val_accuracy: 0.7498\n",
            "Epoch 3/6\n",
            "387/387 [==============================] - 11s 29ms/step - loss: 0.1044 - accuracy: 0.9644 - val_loss: 0.0108 - val_accuracy: 0.9989\n",
            "Epoch 4/6\n",
            "387/387 [==============================] - 11s 29ms/step - loss: 0.0724 - accuracy: 0.9752 - val_loss: 2.6798e-04 - val_accuracy: 1.0000\n",
            "Epoch 5/6\n",
            "387/387 [==============================] - 11s 29ms/step - loss: 0.0595 - accuracy: 0.9795 - val_loss: 3.3375e-04 - val_accuracy: 1.0000\n",
            "Epoch 6/6\n",
            "387/387 [==============================] - 12s 30ms/step - loss: 0.0453 - accuracy: 0.9847 - val_loss: 3.2555e-05 - val_accuracy: 1.0000\n"
          ]
        },
        {
          "data": {
            "text/plain": [
              "<keras.callbacks.History at 0x7fceda44f990>"
            ]
          },
          "execution_count": 218,
          "metadata": {},
          "output_type": "execute_result"
        }
      ],
      "source": [
        "#train model\n",
        "model.fit(train_images, labels, validation_split=0.1, epochs=6, batch_size=64, callbacks=[lr_decay_callback])"
      ]
    },
    {
      "cell_type": "code",
      "execution_count": 219,
      "metadata": {
        "colab": {
          "base_uri": "https://localhost:8080/"
        },
        "id": "kojWLlkY1otL",
        "outputId": "0604c7c4-2f80-42ba-a0f7-3d01a1afe79a"
      },
      "outputs": [
        {
          "name": "stdout",
          "output_type": "stream",
          "text": [
            "225/225 [==============================] - 1s 5ms/step - loss: 0.3334 - accuracy: 0.9335\n",
            "\n",
            "Test accuracy: 0.9334913492202759\n"
          ]
        }
      ],
      "source": [
        "#evaluate\n",
        "test_loss, test_acc = model.evaluate(test_images,  labels_test)\n",
        "print('\\nTest accuracy:', test_acc)"
      ]
    },
    {
      "cell_type": "code",
      "execution_count": 220,
      "metadata": {
        "colab": {
          "base_uri": "https://localhost:8080/"
        },
        "id": "Pzb7CCErMxkC",
        "outputId": "16ede3e2-1c06-4a80-f2f1-79e78c41fe2f"
      },
      "outputs": [
        {
          "name": "stdout",
          "output_type": "stream",
          "text": [
            "Baseline test accuracy: 0.9334913492202759\n",
            "Saving model to:  /tmp/tmpdnbqkfc0.h5\n"
          ]
        }
      ],
      "source": [
        "_, baseline_model_accuracy = model.evaluate(\n",
        "    test_images, labels_test, verbose=0)\n",
        "\n",
        "print('Baseline test accuracy:', baseline_model_accuracy)\n",
        "\n",
        "_, keras_file = tempfile.mkstemp('.h5')\n",
        "print('Saving model to: ', keras_file)\n",
        "tf.keras.models.save_model(model, keras_file, include_optimizer=False)"
      ]
    },
    {
      "cell_type": "code",
      "execution_count": 226,
      "metadata": {
        "colab": {
          "base_uri": "https://localhost:8080/"
        },
        "id": "yMT4pJqyVlbw",
        "outputId": "1c9d89c1-f8aa-41fa-a9be-f510c356f723"
      },
      "outputs": [
        {
          "name": "stdout",
          "output_type": "stream",
          "text": [
            "Model: \"sequential_10\"\n",
            "_________________________________________________________________\n",
            "Layer (type)                 Output Shape              Param #   \n",
            "=================================================================\n",
            "prune_low_magnitude_conv2d_3 (None, 28, 28, 32)        578       \n",
            "_________________________________________________________________\n",
            "prune_low_magnitude_batch_no (None, 28, 28, 32)        97        \n",
            "_________________________________________________________________\n",
            "prune_low_magnitude_activati (None, 28, 28, 32)        1         \n",
            "_________________________________________________________________\n",
            "prune_low_magnitude_max_pool (None, 14, 14, 32)        1         \n",
            "_________________________________________________________________\n",
            "prune_low_magnitude_conv2d_3 (None, 7, 7, 64)          147458    \n",
            "_________________________________________________________________\n",
            "prune_low_magnitude_batch_no (None, 7, 7, 64)          193       \n",
            "_________________________________________________________________\n",
            "prune_low_magnitude_activati (None, 7, 7, 64)          1         \n",
            "_________________________________________________________________\n",
            "prune_low_magnitude_max_pool (None, 3, 3, 64)          1         \n",
            "_________________________________________________________________\n",
            "prune_low_magnitude_conv2d_3 (None, 2, 2, 64)          294914    \n",
            "_________________________________________________________________\n",
            "prune_low_magnitude_batch_no (None, 2, 2, 64)          193       \n",
            "_________________________________________________________________\n",
            "prune_low_magnitude_activati (None, 2, 2, 64)          1         \n",
            "_________________________________________________________________\n",
            "prune_low_magnitude_max_pool (None, 1, 1, 64)          1         \n",
            "_________________________________________________________________\n",
            "prune_low_magnitude_flatten_ (None, 64)                1         \n",
            "_________________________________________________________________\n",
            "prune_low_magnitude_dense_30 (None, 64)                8194      \n",
            "_________________________________________________________________\n",
            "prune_low_magnitude_activati (None, 64)                1         \n",
            "_________________________________________________________________\n",
            "prune_low_magnitude_dropout_ (None, 64)                1         \n",
            "_________________________________________________________________\n",
            "prune_low_magnitude_dense_31 (None, 25)                3227      \n",
            "=================================================================\n",
            "Total params: 454,863\n",
            "Trainable params: 227,353\n",
            "Non-trainable params: 227,510\n",
            "_________________________________________________________________\n"
          ]
        },
        {
          "name": "stderr",
          "output_type": "stream",
          "text": [
            "/usr/local/lib/python3.7/dist-packages/keras/engine/base_layer.py:2223: UserWarning: `layer.add_variable` is deprecated and will be removed in a future version. Please use `layer.add_weight` method instead.\n",
            "  warnings.warn('`layer.add_variable` is deprecated and '\n"
          ]
        }
      ],
      "source": [
        "import tensorflow_model_optimization as tfmot\n",
        "\n",
        "prune_low_magnitude = tfmot.sparsity.keras.prune_low_magnitude\n",
        "\n",
        "# Compute end step to finish pruning after 6 epochs.\n",
        "batch_size = 64\n",
        "epochs = 6\n",
        "validation_split = 0.1 # 10% of training set will be used for validation set. \n",
        "\n",
        "num_images = train_images.shape[0] * (1 - validation_split)\n",
        "end_step = np.ceil(num_images / batch_size).astype(np.int32) * epochs\n",
        "\n",
        "\n",
        "pruning_params = {\n",
        "      'pruning_schedule': tfmot.sparsity.keras.PolynomialDecay(initial_sparsity=0.50,\n",
        "                                                               final_sparsity=0.80,\n",
        "                                                               begin_step=0,\n",
        "                                                               end_step=end_step)\n",
        "}\n",
        "\n",
        "model_for_pruning = prune_low_magnitude(model, **pruning_params)\n",
        "\n",
        "model_for_pruning.compile(optimizer='adam',\n",
        "              loss=tf.keras.losses.SparseCategoricalCrossentropy(from_logits=True),\n",
        "              metrics=['accuracy'])\n",
        "\n",
        "model_for_pruning.summary()"
      ]
    },
    {
      "cell_type": "code",
      "execution_count": 227,
      "metadata": {
        "colab": {
          "base_uri": "https://localhost:8080/"
        },
        "id": "5ks8qvHxWGVP",
        "outputId": "d123e8d2-ba6c-4506-8393-efe1257c5cdc"
      },
      "outputs": [
        {
          "name": "stdout",
          "output_type": "stream",
          "text": [
            "Epoch 1/6\n",
            "  5/387 [..............................] - ETA: 37s - loss: 2.3894 - accuracy: 0.9219 WARNING:tensorflow:Callback method `on_train_batch_end` is slow compared to the batch time (batch time: 0.0272s vs `on_train_batch_end` time: 0.0471s). Check your callbacks.\n"
          ]
        },
        {
          "name": "stderr",
          "output_type": "stream",
          "text": [
            "WARNING:tensorflow:Callback method `on_train_batch_end` is slow compared to the batch time (batch time: 0.0272s vs `on_train_batch_end` time: 0.0471s). Check your callbacks.\n"
          ]
        },
        {
          "name": "stdout",
          "output_type": "stream",
          "text": [
            "387/387 [==============================] - 16s 31ms/step - loss: 2.3378 - accuracy: 0.9603 - val_loss: 2.2858 - val_accuracy: 0.9996\n",
            "Epoch 2/6\n",
            "387/387 [==============================] - 12s 30ms/step - loss: 2.3141 - accuracy: 0.9796 - val_loss: 2.2854 - val_accuracy: 1.0000\n",
            "Epoch 3/6\n",
            "387/387 [==============================] - 12s 30ms/step - loss: 2.3115 - accuracy: 0.9811 - val_loss: 2.2859 - val_accuracy: 1.0000\n",
            "Epoch 4/6\n",
            "387/387 [==============================] - 12s 30ms/step - loss: 2.3182 - accuracy: 0.9756 - val_loss: 2.2859 - val_accuracy: 0.9996\n",
            "Epoch 5/6\n",
            "387/387 [==============================] - 12s 30ms/step - loss: 2.3252 - accuracy: 0.9742 - val_loss: 2.3100 - val_accuracy: 0.9782\n",
            "Epoch 6/6\n",
            "387/387 [==============================] - 12s 31ms/step - loss: 2.3209 - accuracy: 0.9773 - val_loss: 2.2854 - val_accuracy: 1.0000\n"
          ]
        },
        {
          "data": {
            "text/plain": [
              "<keras.callbacks.History at 0x7fce354f9cd0>"
            ]
          },
          "execution_count": 227,
          "metadata": {},
          "output_type": "execute_result"
        }
      ],
      "source": [
        "logdir = tempfile.mkdtemp()\n",
        "\n",
        "callbacks = [\n",
        "  tfmot.sparsity.keras.UpdatePruningStep(),\n",
        "  tfmot.sparsity.keras.PruningSummaries(log_dir=logdir),\n",
        "]\n",
        "\n",
        "model_for_pruning.fit(train_images, labels,\n",
        "                  batch_size=batch_size, epochs=epochs, validation_split=validation_split,\n",
        "                  callbacks=callbacks)"
      ]
    },
    {
      "cell_type": "code",
      "execution_count": 228,
      "metadata": {
        "colab": {
          "base_uri": "https://localhost:8080/"
        },
        "id": "jdp2oSClWUkn",
        "outputId": "47b3286a-c291-4d2b-9b0e-ee88d0b929a1"
      },
      "outputs": [
        {
          "name": "stdout",
          "output_type": "stream",
          "text": [
            "Baseline test accuracy: 0.9334913492202759\n",
            "Pruned test accuracy: 0.9127160906791687\n"
          ]
        }
      ],
      "source": [
        "_, model_for_pruning_accuracy = model_for_pruning.evaluate(\n",
        "   test_images, labels_test, verbose=0)\n",
        "\n",
        "print('Baseline test accuracy:', baseline_model_accuracy) \n",
        "print('Pruned test accuracy:', model_for_pruning_accuracy)"
      ]
    },
    {
      "cell_type": "code",
      "execution_count": 231,
      "metadata": {
        "colab": {
          "base_uri": "https://localhost:8080/"
        },
        "id": "S7tM7cNsXIKY",
        "outputId": "4b462043-1a07-44c9-e4dc-f0ccf49d2a91"
      },
      "outputs": [
        {
          "name": "stdout",
          "output_type": "stream",
          "text": [
            "WARNING:tensorflow:Compiled the loaded model, but the compiled metrics have yet to be built. `model.compile_metrics` will be empty until you train or evaluate the model.\n"
          ]
        },
        {
          "name": "stderr",
          "output_type": "stream",
          "text": [
            "WARNING:tensorflow:Compiled the loaded model, but the compiled metrics have yet to be built. `model.compile_metrics` will be empty until you train or evaluate the model.\n"
          ]
        },
        {
          "name": "stdout",
          "output_type": "stream",
          "text": [
            "INFO:tensorflow:Assets written to: /tmp/tmph1jj_z7t/assets\n"
          ]
        },
        {
          "name": "stderr",
          "output_type": "stream",
          "text": [
            "INFO:tensorflow:Assets written to: /tmp/tmph1jj_z7t/assets\n"
          ]
        },
        {
          "name": "stdout",
          "output_type": "stream",
          "text": [
            "Saved pruned TFLite model to: /tmp/tmptduyh_kl.tflite\n"
          ]
        }
      ],
      "source": [
        "converter = tf.lite.TFLiteConverter.from_keras_model(model_for_export)\n",
        "pruned_tflite_model = converter.convert()\n",
        "\n",
        "_, pruned_tflite_file = tempfile.mkstemp('.tflite')\n",
        "\n",
        "with open(pruned_tflite_file, 'wb') as f:\n",
        "  f.write(pruned_tflite_model)\n",
        "\n",
        "print('Saved pruned TFLite model to:', pruned_tflite_file)"
      ]
    },
    {
      "cell_type": "code",
      "execution_count": 232,
      "metadata": {
        "id": "EieTCSq3RM5o"
      },
      "outputs": [],
      "source": [
        "def get_gzipped_model_size(file):\n",
        "  # It returns the size of the gzipped model in bytes.\n",
        "  import os\n",
        "  import zipfile\n",
        "\n",
        "  _, zipped_file = tempfile.mkstemp('.zip')\n",
        "  with zipfile.ZipFile(zipped_file, 'w', compression=zipfile.ZIP_DEFLATED) as f:\n",
        "    f.write(file)\n",
        "\n",
        "  return os.path.getsize(zipped_file)"
      ]
    },
    {
      "cell_type": "code",
      "execution_count": 233,
      "metadata": {
        "colab": {
          "base_uri": "https://localhost:8080/"
        },
        "id": "Og9ssFTzRP9n",
        "outputId": "e2af5d10-b788-4baf-a3d0-e429e304edf2"
      },
      "outputs": [
        {
          "name": "stdout",
          "output_type": "stream",
          "text": [
            "Size of gzipped baseline Keras model: 849709.00 bytes\n",
            "Size of gzipped pruned Keras model: 273083.00 bytes\n",
            "Size of gzipped pruned TFlite model: 266698.00 bytes\n"
          ]
        }
      ],
      "source": [
        "print(\"Size of gzipped baseline Keras model: %.2f bytes\" % (get_gzipped_model_size(keras_file)))\n",
        "print(\"Size of gzipped pruned Keras model: %.2f bytes\" % (get_gzipped_model_size(pruned_keras_file)))\n",
        "print(\"Size of gzipped pruned TFlite model: %.2f bytes\" % (get_gzipped_model_size(pruned_tflite_file)))"
      ]
    },
    {
      "cell_type": "code",
      "execution_count": 238,
      "metadata": {
        "colab": {
          "base_uri": "https://localhost:8080/"
        },
        "id": "aAdDMNrwXlD_",
        "outputId": "d674fcfd-34a1-4c39-ea5b-641ef63c8b47"
      },
      "outputs": [
        {
          "name": "stdout",
          "output_type": "stream",
          "text": [
            "WARNING:tensorflow:Compiled the loaded model, but the compiled metrics have yet to be built. `model.compile_metrics` will be empty until you train or evaluate the model.\n"
          ]
        },
        {
          "name": "stderr",
          "output_type": "stream",
          "text": [
            "WARNING:tensorflow:Compiled the loaded model, but the compiled metrics have yet to be built. `model.compile_metrics` will be empty until you train or evaluate the model.\n"
          ]
        },
        {
          "name": "stdout",
          "output_type": "stream",
          "text": [
            "INFO:tensorflow:Assets written to: /tmp/tmpavf10_zf/assets\n"
          ]
        },
        {
          "name": "stderr",
          "output_type": "stream",
          "text": [
            "INFO:tensorflow:Assets written to: /tmp/tmpavf10_zf/assets\n"
          ]
        },
        {
          "name": "stdout",
          "output_type": "stream",
          "text": [
            "Saved quantized and pruned TFLite model to: /tmp/tmpkq6ixoyj.tflite\n",
            "Size of gzipped baseline Keras model: 849709.00 bytes\n",
            "Size of gzipped pruned and quantized TFlite model: 78743.00 bytes\n"
          ]
        }
      ],
      "source": [
        "\n",
        "\n",
        "\n",
        "converter = tf.lite.TFLiteConverter.from_keras_model(model_for_export)\n",
        "converter.optimizations = [tf.lite.Optimize.DEFAULT]\n",
        "quantized_and_pruned_tflite_model = converter.convert()\n",
        "\n",
        "_, quantized_and_pruned_tflite_file = tempfile.mkstemp('.tflite')\n",
        "\n",
        "with open(quantized_and_pruned_tflite_file, 'wb') as f:\n",
        "  f.write(quantized_and_pruned_tflite_model)\n",
        "\n",
        "print('Saved quantized and pruned TFLite model to:', quantized_and_pruned_tflite_file)\n",
        "\n",
        "print(\"Size of gzipped baseline Keras model: %.2f bytes\" % (get_gzipped_model_size(keras_file)))\n",
        "print(\"Size of gzipped pruned and quantized TFlite model: %.2f bytes\" % (get_gzipped_model_size(quantized_and_pruned_tflite_file)))"
      ]
    },
    {
      "cell_type": "code",
      "execution_count": 235,
      "metadata": {
        "id": "tXA5gJkFRnXQ"
      },
      "outputs": [],
      "source": [
        "def eval_model(interpreter):\n",
        "  input_index = interpreter.get_input_details()[0][\"index\"]\n",
        "  output_index = interpreter.get_output_details()[0][\"index\"]\n",
        "\n",
        "  # Run predictions on every image in the \"test\" dataset.\n",
        "  prediction_digits = []\n",
        "  for i, test_image in enumerate(test_images):\n",
        "    if i % 1000 == 0:\n",
        "      print('Evaluated on {n} results so far.'.format(n=i))\n",
        "    # Pre-processing: add batch dimension and convert to float32 to match with\n",
        "    # the model's input data format.\n",
        "    test_image = np.expand_dims(test_image, axis=0).astype(np.float32)\n",
        "    interpreter.set_tensor(input_index, test_image)\n",
        "\n",
        "    # Run inference.\n",
        "    interpreter.invoke()\n",
        "\n",
        "    # Post-processing: remove batch dimension and find the digit with highest\n",
        "    # probability.\n",
        "    output = interpreter.tensor(output_index)\n",
        "    digit = np.argmax(output()[0])\n",
        "    prediction_digits.append(digit)\n",
        "\n",
        "  print('\\n')\n",
        "  # Compare prediction results with ground truth labels to calculate accuracy.\n",
        "  prediction_digits = np.array(prediction_digits)\n",
        "  accuracy = (prediction_digits == labels_test).mean()\n",
        "  return accuracy"
      ]
    },
    {
      "cell_type": "code",
      "execution_count": 236,
      "metadata": {
        "colab": {
          "base_uri": "https://localhost:8080/"
        },
        "id": "u0FHcZXzXvDm",
        "outputId": "8595d68e-ab00-4645-fa3f-74d19a11e80b"
      },
      "outputs": [
        {
          "name": "stdout",
          "output_type": "stream",
          "text": [
            "Evaluated on 0 results so far.\n",
            "Evaluated on 1000 results so far.\n",
            "Evaluated on 2000 results so far.\n",
            "Evaluated on 3000 results so far.\n",
            "Evaluated on 4000 results so far.\n",
            "Evaluated on 5000 results so far.\n",
            "Evaluated on 6000 results so far.\n",
            "Evaluated on 7000 results so far.\n",
            "\n",
            "\n",
            "Pruned and quantized TFLite test_accuracy: 0.9122978248745119\n",
            "Pruned TF test accuracy: 0.9127160906791687\n"
          ]
        }
      ],
      "source": [
        "\n",
        "interpreter = tf.lite.Interpreter(model_content=quantized_and_pruned_tflite_model)\n",
        "interpreter.allocate_tensors()\n",
        "\n",
        "test_accuracy = eval_model(interpreter)\n",
        "\n",
        "print('Pruned and quantized TFLite test_accuracy:', test_accuracy)\n",
        "print('Pruned TF test accuracy:', model_for_pruning_accuracy)"
      ]
    }
  ],
  "metadata": {
    "accelerator": "TPU",
    "colab": {
      "collapsed_sections": [],
      "machine_shape": "hm",
      "name": "q3 lab 3.ipynb",
      "provenance": []
    },
    "kernelspec": {
      "display_name": "Python 3 (ipykernel)",
      "language": "python",
      "name": "python3"
    },
    "language_info": {
      "codemirror_mode": {
        "name": "ipython",
        "version": 3
      },
      "file_extension": ".py",
      "mimetype": "text/x-python",
      "name": "python",
      "nbconvert_exporter": "python",
      "pygments_lexer": "ipython3",
      "version": "3.9.7"
    }
  },
  "nbformat": 4,
  "nbformat_minor": 0
}
