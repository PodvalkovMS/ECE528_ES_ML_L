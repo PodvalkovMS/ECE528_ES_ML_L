{
  "cells": [
    {
      "cell_type": "code",
      "execution_count": null,
      "metadata": {
        "colab": {
          "base_uri": "https://localhost:8080/",
          "height": 35
        },
        "id": "opdFPDUIUwFr",
        "outputId": "97a9605f-fc80-41e4-da8e-b704994749d8"
      },
      "outputs": [
        {
          "data": {
            "application/vnd.google.colaboratory.intrinsic+json": {
              "type": "string"
            },
            "text/plain": [
              "'2.6.0'"
            ]
          },
          "execution_count": 2,
          "metadata": {},
          "output_type": "execute_result"
        }
      ],
      "source": [
        "# TensorFlow and tf.keras\n",
        "import math\n",
        "import pandas as pd\n",
        "import tensorflow as tf\n",
        "import numpy as np\n",
        "from tensorflow import keras\n",
        "\n",
        "\n",
        "#tf version should be 2.5 or higher\n",
        "tf.__version__"
      ]
    },
    {
      "cell_type": "code",
      "execution_count": null,
      "metadata": {
        "id": "uH3h_g1UCZNY"
      },
      "outputs": [],
      "source": [
        "train=pd.read_csv('sign_mnist_train.csv')\n",
        "test=pd.read_csv('sign_mnist_test.csv')"
      ]
    },
    {
      "cell_type": "code",
      "execution_count": null,
      "metadata": {
        "id": "kHMhh-4IDKmV"
      },
      "outputs": [],
      "source": [
        "train_images=train.values[0:,1:]\n",
        "\n",
        "test_images=test.values[0:,1:]"
      ]
    },
    {
      "cell_type": "code",
      "execution_count": null,
      "metadata": {
        "colab": {
          "base_uri": "https://localhost:8080/"
        },
        "id": "2sCflcznJoZO",
        "outputId": "120f26fb-505b-4060-b832-2034489809fe"
      },
      "outputs": [
        {
          "name": "stdout",
          "output_type": "stream",
          "text": [
            "[ 3  6  2 ... 18 17 23]\n"
          ]
        }
      ],
      "source": [
        "labels = train.values[0:,0]\n",
        "\n",
        "\n",
        "\n",
        "\n",
        "labels_test = test.values[0:,0]\n"
      ]
    },
    {
      "cell_type": "code",
      "execution_count": null,
      "metadata": {
        "id": "8PK5gM9CDrx4"
      },
      "outputs": [],
      "source": [
        "train_images=train_images/255\n",
        "train_images=train_images.reshape((27455,28,28,1))\n",
        "\n",
        "test_images=test_images/255\n",
        "print(test_images)\n",
        "test_images=test_images.reshape((7172, 28,28,1))\n",
        "print(test_images)"
      ]
    },
    {
      "cell_type": "code",
      "execution_count": 103,
      "metadata": {
        "id": "-iSr-1N_1otI"
      },
      "outputs": [],
      "source": [
        "#setup model\n",
        "model = keras.Sequential([\n",
        "   \n",
        "    \n",
        "    keras.layers.Conv2D(kernel_size=3, filters=32, use_bias=False, padding='same', input_shape=(28, 28 , 1)),\n",
        "    keras.layers.BatchNormalization(center=True, scale=False),\n",
        "    keras.layers.Activation('relu'),\n",
        "    \n",
        "    \n",
        "    keras.layers.MaxPooling2D(pool_size=(2, 2), strides=2),\n",
        "    \n",
        "    \n",
        "    \n",
        "    keras.layers.Conv2D(kernel_size=6, filters=64, use_bias=False, padding='same', strides=2),\n",
        "    keras.layers.BatchNormalization(center=True, scale=False),\n",
        "    keras.layers.Activation('relu'),\n",
        "    \n",
        "    keras.layers.MaxPooling2D(pool_size=(2, 2), strides=2),\n",
        "    \n",
        "   \n",
        "    \n",
        "    keras.layers.Conv2D(kernel_size=6, filters=64, use_bias=False, padding='same', strides=2),\n",
        "    keras.layers.BatchNormalization(center=True, scale=False),\n",
        "    keras.layers.Activation('relu'),\n",
        "    \n",
        "        \n",
        "    \n",
        "    keras.layers.MaxPooling2D(pool_size=(2, 2), strides=2),\n",
        "    \n",
        "   \n",
        "    \n",
        "    keras.layers.Flatten(),\n",
        "    \n",
        "    #keras.layers.Dense(256, use_bias=False),\n",
        "    #keras.layers.BatchNormalization(center=True, scale=False),\n",
        "    #keras.layers.Activation('relu'),\n",
        "    #keras.layers.Dropout(0.3),\n",
        "    \n",
        "    #keras.layers.Dense(128, use_bias=False),\n",
        "    #keras.layers.BatchNormalization(center=True, scale=False),\n",
        "    #keras.layers.Activation('relu'),\n",
        "    #keras.layers.Dropout(0.3),\n",
        "    \n",
        "    keras.layers.Dense(64, use_bias=False),\n",
        "    #keras.layers.BatchNormalization(center=True, scale=False),\n",
        "    keras.layers.Activation('relu'),\n",
        "    keras.layers.Dropout(0.3),\n",
        "    keras.layers.Dense(25, activation = tf.nn.softmax)\n",
        "])"
      ]
    },
    {
      "cell_type": "code",
      "execution_count": 104,
      "metadata": {
        "id": "JymcotIz1otJ"
      },
      "outputs": [],
      "source": [
        "#compile model\n",
        "model.compile(optimizer=tf.keras.optimizers.Adam(learning_rate=0.01),\n",
        "          loss='sparse_categorical_crossentropy',\n",
        "          metrics=['accuracy'])"
      ]
    },
    {
      "cell_type": "code",
      "execution_count": 105,
      "metadata": {
        "id": "i9-jct_11otK"
      },
      "outputs": [],
      "source": [
        "def lr_decay(epoch):\n",
        "    return 0.01*math.pow(0.6, epoch)\n",
        "\n",
        "lr_decay_callback=tf.keras.callbacks.LearningRateScheduler(lr_decay)"
      ]
    },
    {
      "cell_type": "code",
      "execution_count": 106,
      "metadata": {
        "colab": {
          "base_uri": "https://localhost:8080/"
        },
        "id": "xpnI-sHH1otK",
        "outputId": "affc05ea-9661-4bb4-b54a-06a8bfa5bc2c"
      },
      "outputs": [
        {
          "name": "stdout",
          "output_type": "stream",
          "text": [
            "Epoch 1/10\n",
            "301/301 [==============================] - 10s 32ms/step - loss: 1.3628 - accuracy: 0.5461 - val_loss: 1.4315 - val_accuracy: 0.5458\n",
            "Epoch 2/10\n",
            "301/301 [==============================] - 10s 33ms/step - loss: 0.2661 - accuracy: 0.9050 - val_loss: 0.9701 - val_accuracy: 0.7351\n",
            "Epoch 3/10\n",
            "301/301 [==============================] - 10s 33ms/step - loss: 0.1083 - accuracy: 0.9620 - val_loss: 0.0330 - val_accuracy: 0.9928\n",
            "Epoch 4/10\n",
            "301/301 [==============================] - 10s 32ms/step - loss: 0.0784 - accuracy: 0.9721 - val_loss: 0.0018 - val_accuracy: 0.9996\n",
            "Epoch 5/10\n",
            "301/301 [==============================] - 10s 32ms/step - loss: 0.0652 - accuracy: 0.9769 - val_loss: 8.0423e-04 - val_accuracy: 1.0000\n",
            "Epoch 6/10\n",
            "301/301 [==============================] - 10s 32ms/step - loss: 0.0525 - accuracy: 0.9818 - val_loss: 0.0017 - val_accuracy: 0.9998\n",
            "Epoch 7/10\n",
            "301/301 [==============================] - 9s 31ms/step - loss: 0.0470 - accuracy: 0.9838 - val_loss: 1.1322e-04 - val_accuracy: 1.0000\n",
            "Epoch 8/10\n",
            "301/301 [==============================] - 9s 31ms/step - loss: 0.0443 - accuracy: 0.9849 - val_loss: 1.1097e-04 - val_accuracy: 1.0000\n",
            "Epoch 9/10\n",
            "301/301 [==============================] - 10s 32ms/step - loss: 0.0470 - accuracy: 0.9826 - val_loss: 9.1610e-05 - val_accuracy: 1.0000\n",
            "Epoch 10/10\n",
            "301/301 [==============================] - 10s 32ms/step - loss: 0.0462 - accuracy: 0.9837 - val_loss: 7.6822e-05 - val_accuracy: 1.0000\n"
          ]
        },
        {
          "data": {
            "text/plain": [
              "<keras.callbacks.History at 0x7fce42bb0fd0>"
            ]
          },
          "execution_count": 106,
          "metadata": {},
          "output_type": "execute_result"
        }
      ],
      "source": [
        "#train model\n",
        "model.fit(train_images, labels, validation_split=0.3, epochs=10, batch_size=64, callbacks=[lr_decay_callback])"
      ]
    },
    {
      "cell_type": "code",
      "execution_count": 107,
      "metadata": {
        "colab": {
          "base_uri": "https://localhost:8080/"
        },
        "id": "kojWLlkY1otL",
        "outputId": "9b160bcd-7992-4e62-e92e-45df37084957"
      },
      "outputs": [
        {
          "name": "stdout",
          "output_type": "stream",
          "text": [
            "225/225 [==============================] - 1s 5ms/step - loss: 0.2120 - accuracy: 0.9603\n",
            "\n",
            "Test accuracy: 0.96026211977005\n"
          ]
        }
      ],
      "source": [
        "#evaluate\n",
        "test_loss, test_acc = model.evaluate(test_images,  labels_test)\n",
        "print('\\nTest accuracy:', test_acc)"
      ]
    },
    {
      "cell_type": "code",
      "execution_count": 108,
      "metadata": {
        "colab": {
          "base_uri": "https://localhost:8080/"
        },
        "id": "ORkWspit1otM",
        "outputId": "2bd9e666-9ba0-441b-f563-375596737671"
      },
      "outputs": [
        {
          "name": "stdout",
          "output_type": "stream",
          "text": [
            "INFO:tensorflow:Assets written to: my_model/assets\n"
          ]
        },
        {
          "name": "stderr",
          "output_type": "stream",
          "text": [
            "INFO:tensorflow:Assets written to: my_model/assets\n"
          ]
        }
      ],
      "source": [
        "etalon=model\n",
        "etalon.save('my_model')"
      ]
    },
    {
      "cell_type": "code",
      "execution_count": 109,
      "metadata": {
        "colab": {
          "base_uri": "https://localhost:8080/"
        },
        "id": "6CIB7gvqVVRA",
        "outputId": "d360f4b4-740b-4665-e6d2-f45a98fe34ce"
      },
      "outputs": [
        {
          "name": "stdout",
          "output_type": "stream",
          "text": [
            "INFO:tensorflow:Assets written to: /tmp/tmp9uxzzvpo/assets\n"
          ]
        },
        {
          "name": "stderr",
          "output_type": "stream",
          "text": [
            "INFO:tensorflow:Assets written to: /tmp/tmp9uxzzvpo/assets\n"
          ]
        }
      ],
      "source": [
        "converter = tf.lite.TFLiteConverter.from_keras_model(etalon)\n",
        "sign_mnist_model = converter.convert()\n"
      ]
    },
    {
      "cell_type": "code",
      "execution_count": 110,
      "metadata": {
        "id": "gN2LZyap1otN"
      },
      "outputs": [],
      "source": [
        "f=open('sign_mnist.tflite',  'wb')"
      ]
    },
    {
      "cell_type": "code",
      "execution_count": 111,
      "metadata": {
        "colab": {
          "base_uri": "https://localhost:8080/"
        },
        "id": "bv30uI_H1otN",
        "outputId": "9f65b1ca-5f73-4aee-8128-df60831e094a"
      },
      "outputs": [
        {
          "data": {
            "text/plain": [
              "913092"
            ]
          },
          "execution_count": 111,
          "metadata": {},
          "output_type": "execute_result"
        }
      ],
      "source": [
        "f.write(sign_mnist_model)"
      ]
    },
    {
      "cell_type": "code",
      "execution_count": 112,
      "metadata": {
        "colab": {
          "base_uri": "https://localhost:8080/"
        },
        "id": "fqnEanTCZm7p",
        "outputId": "e2a2b950-5917-4a17-a156-beac2977f1b2"
      },
      "outputs": [
        {
          "data": {
            "text/plain": [
              "<function BufferedWriter.close>"
            ]
          },
          "execution_count": 112,
          "metadata": {},
          "output_type": "execute_result"
        }
      ],
      "source": [
        "f.close"
      ]
    },
    {
      "cell_type": "code",
      "execution_count": 113,
      "metadata": {
        "colab": {
          "base_uri": "https://localhost:8080/",
          "height": 17
        },
        "id": "9l2272JMZrh5",
        "outputId": "ecd414ba-3e4e-46c3-a815-e970d888a2bc"
      },
      "outputs": [
        {
          "data": {
            "application/javascript": "\n    async function download(id, filename, size) {\n      if (!google.colab.kernel.accessAllowed) {\n        return;\n      }\n      const div = document.createElement('div');\n      const label = document.createElement('label');\n      label.textContent = `Downloading \"${filename}\": `;\n      div.appendChild(label);\n      const progress = document.createElement('progress');\n      progress.max = size;\n      div.appendChild(progress);\n      document.body.appendChild(div);\n\n      const buffers = [];\n      let downloaded = 0;\n\n      const channel = await google.colab.kernel.comms.open(id);\n      // Send a message to notify the kernel that we're ready.\n      channel.send({})\n\n      for await (const message of channel.messages) {\n        // Send a message to notify the kernel that we're ready.\n        channel.send({})\n        if (message.buffers) {\n          for (const buffer of message.buffers) {\n            buffers.push(buffer);\n            downloaded += buffer.byteLength;\n            progress.value = downloaded;\n          }\n        }\n      }\n      const blob = new Blob(buffers, {type: 'application/binary'});\n      const a = document.createElement('a');\n      a.href = window.URL.createObjectURL(blob);\n      a.download = filename;\n      div.appendChild(a);\n      a.click();\n      div.remove();\n    }\n  ",
            "text/plain": [
              "<IPython.core.display.Javascript object>"
            ]
          },
          "metadata": {},
          "output_type": "display_data"
        },
        {
          "data": {
            "application/javascript": "download(\"download_3a8720b1-6996-4c7a-8122-4fe89612defb\", \"sign_mnist.tflite\", 913092)",
            "text/plain": [
              "<IPython.core.display.Javascript object>"
            ]
          },
          "metadata": {},
          "output_type": "display_data"
        }
      ],
      "source": [
        "files.download('sign_mnist.tflite')"
      ]
    },
    {
      "cell_type": "code",
      "execution_count": 114,
      "metadata": {
        "colab": {
          "base_uri": "https://localhost:8080/"
        },
        "id": "trbi0Mobd5T_",
        "outputId": "1db28982-7a07-4e35-b42b-7a7516fa5e3a"
      },
      "outputs": [
        {
          "name": "stdout",
          "output_type": "stream",
          "text": [
            "Size of the 'sign_mnist.tflite' : 0.87 Mb\n"
          ]
        }
      ],
      "source": [
        "import os\n",
        "\n",
        "print(\"Size of the 'sign_mnist.tflite' : %.2f Mb\"\n",
        "      %(os.path.getsize('sign_mnist.tflite')/float(2**20)))\n"
      ]
    },
    {
      "cell_type": "code",
      "execution_count": 115,
      "metadata": {
        "colab": {
          "base_uri": "https://localhost:8080/"
        },
        "id": "m113t6FlhY_y",
        "outputId": "1f99eec9-0185-4cce-9eb7-6f1c87c15f29"
      },
      "outputs": [
        {
          "name": "stdout",
          "output_type": "stream",
          "text": [
            "Accuarcy afer 1000 images: 0.043000\n",
            "Accuarcy afer 2000 images: 0.045000\n",
            "Accuarcy afer 3000 images: 0.045000\n",
            "Accuarcy afer 4000 images: 0.043500\n",
            "Accuarcy afer 5000 images: 0.042400\n",
            "Accuarcy afer 6000 images: 0.043833\n",
            "Accuarcy afer 7000 images: 0.045429\n",
            "0.04573340769659788\n"
          ]
        }
      ],
      "source": [
        "import tempfile\n",
        "import zipfile\n",
        "\n",
        "test_images=np.float32(test_images)\n",
        "\n",
        "\n",
        "labels_test=np.float32(labels_test)\n",
        "interpreter=tf.lite.Interpreter(model_path='sign_mnist.tflite')\n",
        "interpreter.allocate_tensors()\n",
        "input_index=interpreter.get_input_details()[0][\"index\"]\n",
        "output_index=interpreter.get_output_details()[0][\"index\"]\n",
        "\n",
        "def eval_model(x_test, y_test, interpreter):\n",
        "  total_sceen=0\n",
        "  num_correct=0\n",
        "\n",
        "  for img, label in zip(x_test, y_test):\n",
        "    inp=img.reshape((1, 28, 28, 1))\n",
        "    total_sceen+=1\n",
        "    interpreter.set_tensor(input_index, inp)\n",
        "    interpreter.invoke()\n",
        "    predictions=interpreter.get_tensor(output_index)\n",
        "    if np.argmax(predictions)==np.argmax(label):\n",
        "      num_correct+=1\n",
        "    if total_sceen % 1000 ==0:\n",
        "      print('Accuarcy afer %i images: %f' % (total_sceen, float(num_correct)/float(total_sceen)))\n",
        "  return float(num_correct)/float(total_sceen)\n",
        "\n",
        "print(eval_model(test_images,  labels_test, interpreter ))"
      ]
    },
    {
      "cell_type": "code",
      "execution_count": 116,
      "metadata": {
        "colab": {
          "base_uri": "https://localhost:8080/"
        },
        "id": "_zLk09WaalLq",
        "outputId": "a98d6ca3-a479-43d6-9a6b-350a82bd0d53"
      },
      "outputs": [
        {
          "name": "stderr",
          "output_type": "stream",
          "text": [
            "WARNING:absl:Optimization option OPTIMIZE_FOR_SIZE is deprecated, please use optimizations=[Optimize.DEFAULT] instead.\n"
          ]
        },
        {
          "name": "stdout",
          "output_type": "stream",
          "text": [
            "INFO:tensorflow:Assets written to: /tmp/tmp3empxjo4/assets\n"
          ]
        },
        {
          "name": "stderr",
          "output_type": "stream",
          "text": [
            "INFO:tensorflow:Assets written to: /tmp/tmp3empxjo4/assets\n",
            "WARNING:absl:Optimization option OPTIMIZE_FOR_SIZE is deprecated, please use optimizations=[Optimize.DEFAULT] instead.\n",
            "WARNING:absl:Optimization option OPTIMIZE_FOR_SIZE is deprecated, please use optimizations=[Optimize.DEFAULT] instead.\n"
          ]
        }
      ],
      "source": [
        "cunvert=converter\n",
        "cunvert.optimizations = [tf.lite.Optimize.OPTIMIZE_FOR_SIZE]\n",
        "tflite_quant_model=cunvert.convert()"
      ]
    },
    {
      "cell_type": "code",
      "execution_count": 117,
      "metadata": {
        "colab": {
          "base_uri": "https://localhost:8080/",
          "height": 17
        },
        "id": "6fpSp7kla3aA",
        "outputId": "eb4d821b-9a36-43b5-c351-dcdba4e22ecc"
      },
      "outputs": [
        {
          "data": {
            "application/javascript": "\n    async function download(id, filename, size) {\n      if (!google.colab.kernel.accessAllowed) {\n        return;\n      }\n      const div = document.createElement('div');\n      const label = document.createElement('label');\n      label.textContent = `Downloading \"${filename}\": `;\n      div.appendChild(label);\n      const progress = document.createElement('progress');\n      progress.max = size;\n      div.appendChild(progress);\n      document.body.appendChild(div);\n\n      const buffers = [];\n      let downloaded = 0;\n\n      const channel = await google.colab.kernel.comms.open(id);\n      // Send a message to notify the kernel that we're ready.\n      channel.send({})\n\n      for await (const message of channel.messages) {\n        // Send a message to notify the kernel that we're ready.\n        channel.send({})\n        if (message.buffers) {\n          for (const buffer of message.buffers) {\n            buffers.push(buffer);\n            downloaded += buffer.byteLength;\n            progress.value = downloaded;\n          }\n        }\n      }\n      const blob = new Blob(buffers, {type: 'application/binary'});\n      const a = document.createElement('a');\n      a.href = window.URL.createObjectURL(blob);\n      a.download = filename;\n      div.appendChild(a);\n      a.click();\n      div.remove();\n    }\n  ",
            "text/plain": [
              "<IPython.core.display.Javascript object>"
            ]
          },
          "metadata": {},
          "output_type": "display_data"
        },
        {
          "data": {
            "application/javascript": "download(\"download_8edbfe94-59d3-448a-a7e9-7636b2558fd1\", \"sign_mnist_quant_dyn.tflite\", 235424)",
            "text/plain": [
              "<IPython.core.display.Javascript object>"
            ]
          },
          "metadata": {},
          "output_type": "display_data"
        }
      ],
      "source": [
        "g=open('sign_mnist_quant_dyn.tflite', 'wb')\n",
        "g.write(tflite_quant_model)\n",
        "g.close\n",
        "files.download('sign_mnist_quant_dyn.tflite')"
      ]
    },
    {
      "cell_type": "code",
      "execution_count": 118,
      "metadata": {
        "colab": {
          "base_uri": "https://localhost:8080/"
        },
        "id": "ZInYPZiOszgZ",
        "outputId": "588a9b3a-58a2-48a4-bc2c-c0ee07367289"
      },
      "outputs": [
        {
          "name": "stdout",
          "output_type": "stream",
          "text": [
            "Size of the 'sign_mnist_quant_dyn.tflite' : 0.22 Mb\n"
          ]
        }
      ],
      "source": [
        "\n",
        "print(\"Size of the 'sign_mnist_quant_dyn.tflite' : %.2f Mb\"\n",
        "      %(os.path.getsize('sign_mnist_quant_dyn.tflite')/float(2**20)))"
      ]
    },
    {
      "cell_type": "code",
      "execution_count": 119,
      "metadata": {
        "colab": {
          "base_uri": "https://localhost:8080/"
        },
        "id": "4lOLvunKs5g5",
        "outputId": "ab109ffd-a535-4c03-e5fe-b4ad4cc204f6"
      },
      "outputs": [
        {
          "name": "stdout",
          "output_type": "stream",
          "text": [
            "Accuarcy afer 1000 images: 0.043000\n",
            "Accuarcy afer 2000 images: 0.045000\n",
            "Accuarcy afer 3000 images: 0.045333\n",
            "Accuarcy afer 4000 images: 0.043750\n",
            "Accuarcy afer 5000 images: 0.042800\n",
            "Accuarcy afer 6000 images: 0.044167\n",
            "Accuarcy afer 7000 images: 0.045714\n",
            "0.046012269938650305\n"
          ]
        }
      ],
      "source": [
        "interpreter=tf.lite.Interpreter(model_path='sign_mnist_quant_dyn.tflite')\n",
        "interpreter.allocate_tensors()\n",
        "input_index=interpreter.get_input_details()[0][\"index\"]\n",
        "output_index=interpreter.get_output_details()[0][\"index\"]\n",
        "\n",
        "print(eval_model(test_images,  labels_test, interpreter ))\n"
      ]
    },
    {
      "cell_type": "code",
      "execution_count": 120,
      "metadata": {
        "colab": {
          "base_uri": "https://localhost:8080/"
        },
        "id": "FYrz-_Dztl1g",
        "outputId": "33d0806c-12af-4ad3-dc2a-e35dc2366070"
      },
      "outputs": [
        {
          "name": "stdout",
          "output_type": "stream",
          "text": [
            "INFO:tensorflow:Assets written to: /tmp/tmp4g0lxg66/assets\n"
          ]
        },
        {
          "name": "stderr",
          "output_type": "stream",
          "text": [
            "INFO:tensorflow:Assets written to: /tmp/tmp4g0lxg66/assets\n"
          ]
        }
      ],
      "source": [
        "\n",
        "converter = tf.lite.TFLiteConverter.from_keras_model(etalon)\n",
        "\n",
        "converter.optimizations = [tf.lite.Optimize.DEFAULT]\n",
        "converter.target_spec.supported_ops = [tf.lite.OpsSet.EXPERIMENTAL_TFLITE_BUILTINS_ACTIVATIONS_INT16_WEIGHTS_INT8]\n",
        "tflite_quant_model = converter.convert()\n",
        "\n"
      ]
    },
    {
      "cell_type": "code",
      "execution_count": 121,
      "metadata": {
        "colab": {
          "base_uri": "https://localhost:8080/",
          "height": 17
        },
        "id": "f4Pv5PmWxz5F",
        "outputId": "5c82a30d-3f36-409c-da76-d513b5d6a1a0"
      },
      "outputs": [
        {
          "data": {
            "application/javascript": "\n    async function download(id, filename, size) {\n      if (!google.colab.kernel.accessAllowed) {\n        return;\n      }\n      const div = document.createElement('div');\n      const label = document.createElement('label');\n      label.textContent = `Downloading \"${filename}\": `;\n      div.appendChild(label);\n      const progress = document.createElement('progress');\n      progress.max = size;\n      div.appendChild(progress);\n      document.body.appendChild(div);\n\n      const buffers = [];\n      let downloaded = 0;\n\n      const channel = await google.colab.kernel.comms.open(id);\n      // Send a message to notify the kernel that we're ready.\n      channel.send({})\n\n      for await (const message of channel.messages) {\n        // Send a message to notify the kernel that we're ready.\n        channel.send({})\n        if (message.buffers) {\n          for (const buffer of message.buffers) {\n            buffers.push(buffer);\n            downloaded += buffer.byteLength;\n            progress.value = downloaded;\n          }\n        }\n      }\n      const blob = new Blob(buffers, {type: 'application/binary'});\n      const a = document.createElement('a');\n      a.href = window.URL.createObjectURL(blob);\n      a.download = filename;\n      div.appendChild(a);\n      a.click();\n      div.remove();\n    }\n  ",
            "text/plain": [
              "<IPython.core.display.Javascript object>"
            ]
          },
          "metadata": {},
          "output_type": "display_data"
        },
        {
          "data": {
            "application/javascript": "download(\"download_669f3ef5-fc40-42fa-88ba-400bc02efda6\", \"sign_mnist_quant_int16x8.tflite\", 235424)",
            "text/plain": [
              "<IPython.core.display.Javascript object>"
            ]
          },
          "metadata": {},
          "output_type": "display_data"
        }
      ],
      "source": [
        "g=open('sign_mnist_quant_int16x8.tflite', 'wb')\n",
        "g.write(tflite_quant_model)\n",
        "g.close\n",
        "files.download('sign_mnist_quant_int16x8.tflite')"
      ]
    },
    {
      "cell_type": "code",
      "execution_count": 122,
      "metadata": {
        "colab": {
          "base_uri": "https://localhost:8080/"
        },
        "id": "Y7775Gyjx8gC",
        "outputId": "5b9e34f4-e91c-4b33-dd35-7adc8c0e7635"
      },
      "outputs": [
        {
          "name": "stdout",
          "output_type": "stream",
          "text": [
            "Size of the 'sign_mnist_quant_int16x8.tflite' : 0.22 Mb\n"
          ]
        }
      ],
      "source": [
        "print(\"Size of the 'sign_mnist_quant_int16x8.tflite' : %.2f Mb\"\n",
        "      %(os.path.getsize('sign_mnist_quant_int16x8.tflite')/float(2**20)))"
      ]
    },
    {
      "cell_type": "code",
      "execution_count": 123,
      "metadata": {
        "colab": {
          "base_uri": "https://localhost:8080/"
        },
        "id": "cbRPzsLkxug5",
        "outputId": "c75f1382-d392-4a4b-cc2b-ddba2028ce18"
      },
      "outputs": [
        {
          "name": "stdout",
          "output_type": "stream",
          "text": [
            "Accuarcy afer 1000 images: 0.043000\n",
            "Accuarcy afer 2000 images: 0.045000\n",
            "Accuarcy afer 3000 images: 0.045333\n",
            "Accuarcy afer 4000 images: 0.043750\n",
            "Accuarcy afer 5000 images: 0.042800\n",
            "Accuarcy afer 6000 images: 0.044167\n",
            "Accuarcy afer 7000 images: 0.045714\n",
            "0.046012269938650305\n"
          ]
        }
      ],
      "source": [
        "interpreter=tf.lite.Interpreter(model_path='sign_mnist_quant_int16x8.tflite')\n",
        "interpreter.allocate_tensors()\n",
        "input_index=interpreter.get_input_details()[0][\"index\"]\n",
        "output_index=interpreter.get_output_details()[0][\"index\"]\n",
        "\n",
        "print(eval_model(test_images,  labels_test, interpreter ))"
      ]
    },
    {
      "cell_type": "code",
      "execution_count": 124,
      "metadata": {
        "colab": {
          "base_uri": "https://localhost:8080/"
        },
        "id": "s5azLLi7zXsu",
        "outputId": "2be8d66e-2642-4018-887f-594cf82cf7e9"
      },
      "outputs": [
        {
          "name": "stdout",
          "output_type": "stream",
          "text": [
            "Model: \"sequential_5\"\n",
            "_________________________________________________________________\n",
            "Layer (type)                 Output Shape              Param #   \n",
            "=================================================================\n",
            "quantize_layer_4 (QuantizeLa (None, 28, 28, 1)         3         \n",
            "_________________________________________________________________\n",
            "quant_conv2d_15 (QuantizeWra (None, 28, 28, 32)        353       \n",
            "_________________________________________________________________\n",
            "quant_batch_normalization_22 (None, 28, 28, 32)        97        \n",
            "_________________________________________________________________\n",
            "quant_activation_30 (Quantiz (None, 28, 28, 32)        3         \n",
            "_________________________________________________________________\n",
            "quant_max_pooling2d_15 (Quan (None, 14, 14, 32)        1         \n",
            "_________________________________________________________________\n",
            "quant_conv2d_16 (QuantizeWra (None, 7, 7, 64)          73857     \n",
            "_________________________________________________________________\n",
            "quant_batch_normalization_23 (None, 7, 7, 64)          193       \n",
            "_________________________________________________________________\n",
            "quant_activation_31 (Quantiz (None, 7, 7, 64)          3         \n",
            "_________________________________________________________________\n",
            "quant_max_pooling2d_16 (Quan (None, 3, 3, 64)          1         \n",
            "_________________________________________________________________\n",
            "quant_conv2d_17 (QuantizeWra (None, 2, 2, 64)          147585    \n",
            "_________________________________________________________________\n",
            "quant_batch_normalization_24 (None, 2, 2, 64)          193       \n",
            "_________________________________________________________________\n",
            "quant_activation_32 (Quantiz (None, 2, 2, 64)          3         \n",
            "_________________________________________________________________\n",
            "quant_max_pooling2d_17 (Quan (None, 1, 1, 64)          1         \n",
            "_________________________________________________________________\n",
            "quant_flatten_5 (QuantizeWra (None, 64)                1         \n",
            "_________________________________________________________________\n",
            "quant_dense_20 (QuantizeWrap (None, 64)                4097      \n",
            "_________________________________________________________________\n",
            "quant_activation_33 (Quantiz (None, 64)                3         \n",
            "_________________________________________________________________\n",
            "quant_dropout_15 (QuantizeWr (None, 64)                1         \n",
            "_________________________________________________________________\n",
            "quant_dense_21 (QuantizeWrap (None, 25)                1630      \n",
            "=================================================================\n",
            "Total params: 228,025\n",
            "Trainable params: 227,353\n",
            "Non-trainable params: 672\n",
            "_________________________________________________________________\n"
          ]
        }
      ],
      "source": [
        "import tensorflow_model_optimization as tfmot\n",
        "\n",
        "quantize_model = tfmot.quantization.keras.quantize_model\n",
        "quantize_annotate_layer=tfmot.quantization.keras.QuantizeConfig\n",
        "\n",
        "# q_aware stands for for quantization aware.\n",
        "q_aware_model = quantize_model(etalon)\n",
        "\n",
        "# `quantize_model` requires a recompile.\n",
        "q_aware_model.compile(optimizer='adam',\n",
        "              loss=tf.keras.losses.SparseCategoricalCrossentropy(from_logits=True),\n",
        "              metrics=['accuracy'])\n",
        "\n",
        "q_aware_model.summary()"
      ]
    },
    {
      "cell_type": "code",
      "execution_count": 125,
      "metadata": {
        "colab": {
          "base_uri": "https://localhost:8080/"
        },
        "id": "z5o5Gk-n5n6J",
        "outputId": "98d4f8d6-9f53-4b44-c9f5-da134b8c2456"
      },
      "outputs": [
        {
          "name": "stderr",
          "output_type": "stream",
          "text": [
            "/usr/local/lib/python3.7/dist-packages/keras/backend.py:4907: UserWarning: \"`sparse_categorical_crossentropy` received `from_logits=True`, but the `output` argument was produced by a sigmoid or softmax activation and thus does not represent logits. Was this intended?\"\n",
            "  '\"`sparse_categorical_crossentropy` received `from_logits=True`, but '\n"
          ]
        },
        {
          "name": "stdout",
          "output_type": "stream",
          "text": [
            "2/2 [==============================] - 2s 417ms/step - loss: 0.5890 - accuracy: 0.7800 - val_loss: 0.2379 - val_accuracy: 1.0000\n"
          ]
        },
        {
          "data": {
            "text/plain": [
              "<keras.callbacks.History at 0x7fce3e98f990>"
            ]
          },
          "execution_count": 125,
          "metadata": {},
          "output_type": "execute_result"
        }
      ],
      "source": [
        "train_images_subset = train_images[0:1000] \n",
        "train_labels_subset = labels[0:1000]\n",
        "\n",
        "q_aware_model.fit(train_images_subset, train_labels_subset,\n",
        "                  batch_size=500, epochs=1, validation_split=0.1)"
      ]
    },
    {
      "cell_type": "code",
      "execution_count": 127,
      "metadata": {
        "colab": {
          "base_uri": "https://localhost:8080/"
        },
        "id": "Y4-yv6_y59Rp",
        "outputId": "23f6a2b5-9706-4e5a-9c75-c9d72c239ca3"
      },
      "outputs": [
        {
          "name": "stderr",
          "output_type": "stream",
          "text": [
            "/usr/local/lib/python3.7/dist-packages/keras/backend.py:4907: UserWarning: \"`sparse_categorical_crossentropy` received `from_logits=True`, but the `output` argument was produced by a sigmoid or softmax activation and thus does not represent logits. Was this intended?\"\n",
            "  '\"`sparse_categorical_crossentropy` received `from_logits=True`, but '\n"
          ]
        },
        {
          "name": "stdout",
          "output_type": "stream",
          "text": [
            "Baseline test accuracy: [0.21196623146533966, 0.96026211977005]\n",
            "Quant test accuracy: 0.9263803958892822\n"
          ]
        }
      ],
      "source": [
        "baseline_model_accuracy = model.evaluate(\n",
        "    test_images,  labels_test, verbose=0)\n",
        "\n",
        "_, q_aware_model_accuracy = q_aware_model.evaluate(\n",
        "  test_images,  labels_test, verbose=0)\n",
        "\n",
        "print('Baseline test accuracy:', baseline_model_accuracy)\n",
        "print('Quant test accuracy:', q_aware_model_accuracy)"
      ]
    },
    {
      "cell_type": "code",
      "execution_count": 136,
      "metadata": {
        "colab": {
          "base_uri": "https://localhost:8080/",
          "height": 87
        },
        "id": "IhiYEx6R6P1p",
        "outputId": "22fb3144-07dc-40d3-df88-02b966564774"
      },
      "outputs": [
        {
          "name": "stderr",
          "output_type": "stream",
          "text": [
            "WARNING:absl:Found untraced functions such as conv2d_15_layer_call_fn, conv2d_15_layer_call_and_return_conditional_losses, activation_30_layer_call_fn, activation_30_layer_call_and_return_conditional_losses, conv2d_16_layer_call_fn while saving (showing 5 of 55). These functions will not be directly callable after loading.\n"
          ]
        },
        {
          "name": "stdout",
          "output_type": "stream",
          "text": [
            "INFO:tensorflow:Assets written to: /tmp/tmp7zktqi_i/assets\n"
          ]
        },
        {
          "name": "stderr",
          "output_type": "stream",
          "text": [
            "INFO:tensorflow:Assets written to: /tmp/tmp7zktqi_i/assets\n"
          ]
        },
        {
          "data": {
            "application/javascript": "\n    async function download(id, filename, size) {\n      if (!google.colab.kernel.accessAllowed) {\n        return;\n      }\n      const div = document.createElement('div');\n      const label = document.createElement('label');\n      label.textContent = `Downloading \"${filename}\": `;\n      div.appendChild(label);\n      const progress = document.createElement('progress');\n      progress.max = size;\n      div.appendChild(progress);\n      document.body.appendChild(div);\n\n      const buffers = [];\n      let downloaded = 0;\n\n      const channel = await google.colab.kernel.comms.open(id);\n      // Send a message to notify the kernel that we're ready.\n      channel.send({})\n\n      for await (const message of channel.messages) {\n        // Send a message to notify the kernel that we're ready.\n        channel.send({})\n        if (message.buffers) {\n          for (const buffer of message.buffers) {\n            buffers.push(buffer);\n            downloaded += buffer.byteLength;\n            progress.value = downloaded;\n          }\n        }\n      }\n      const blob = new Blob(buffers, {type: 'application/binary'});\n      const a = document.createElement('a');\n      a.href = window.URL.createObjectURL(blob);\n      a.download = filename;\n      div.appendChild(a);\n      a.click();\n      div.remove();\n    }\n  ",
            "text/plain": [
              "<IPython.core.display.Javascript object>"
            ]
          },
          "metadata": {},
          "output_type": "display_data"
        },
        {
          "data": {
            "application/javascript": "download(\"download_d89a1812-32b5-475a-9f96-22c7f2ab38ff\", \"sign_mnist_quant_aware_training.tflite\", 1819128)",
            "text/plain": [
              "<IPython.core.display.Javascript object>"
            ]
          },
          "metadata": {},
          "output_type": "display_data"
        }
      ],
      "source": [
        "converter = tf.lite.TFLiteConverter.from_keras_model(q_aware_model) \n",
        "tflite_model = converter.convert()\n",
        "\n",
        "# Save the model.\n",
        "with open('sign_mnist_quant_aware_training.tflite', 'wb') as f:\n",
        "  f.write(tflite_model)\n",
        "files.download('sign_mnist_quant_aware_training.tflite')  "
      ]
    },
    {
      "cell_type": "code",
      "execution_count": 137,
      "metadata": {
        "colab": {
          "base_uri": "https://localhost:8080/"
        },
        "id": "p5rBQTss_Dn8",
        "outputId": "47b41b16-6f44-4621-a7c0-93b02a92059f"
      },
      "outputs": [
        {
          "name": "stdout",
          "output_type": "stream",
          "text": [
            "Size of the 'sign_mnist_quant_aware_training.tflite' : 1.73 Mb\n"
          ]
        }
      ],
      "source": [
        "print(\"Size of the 'sign_mnist_quant_aware_training.tflite' : %.2f Mb\"\n",
        "      %(os.path.getsize('sign_mnist_quant_aware_training.tflite')/float(2**20)))"
      ]
    }
  ],
  "metadata": {
    "accelerator": "TPU",
    "colab": {
      "collapsed_sections": [],
      "machine_shape": "hm",
      "name": "q1 lab 3.ipynb",
      "provenance": []
    },
    "kernelspec": {
      "display_name": "Python 3 (ipykernel)",
      "language": "python",
      "name": "python3"
    },
    "language_info": {
      "codemirror_mode": {
        "name": "ipython",
        "version": 3
      },
      "file_extension": ".py",
      "mimetype": "text/x-python",
      "name": "python",
      "nbconvert_exporter": "python",
      "pygments_lexer": "ipython3",
      "version": "3.9.7"
    }
  },
  "nbformat": 4,
  "nbformat_minor": 0
}
