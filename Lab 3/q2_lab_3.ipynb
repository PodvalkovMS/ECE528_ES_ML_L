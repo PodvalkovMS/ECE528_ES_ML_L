{
  "cells": [
    {
      "cell_type": "code",
      "execution_count": null,
      "metadata": {
        "colab": {
          "base_uri": "https://localhost:8080/",
          "height": 35
        },
        "id": "opdFPDUIUwFr",
        "outputId": "97a9605f-fc80-41e4-da8e-b704994749d8"
      },
      "outputs": [
        {
          "data": {
            "application/vnd.google.colaboratory.intrinsic+json": {
              "type": "string"
            },
            "text/plain": [
              "'2.6.0'"
            ]
          },
          "execution_count": 2,
          "metadata": {},
          "output_type": "execute_result"
        }
      ],
      "source": [
        "# TensorFlow and tf.keras\n",
        "import math\n",
        "import pandas as pd\n",
        "import tensorflow as tf\n",
        "import numpy as np\n",
        "from tensorflow import keras\n",
        "\n",
        "\n",
        "#tf version should be 2.5 or higher\n",
        "tf.__version__"
      ]
    },
    {
      "cell_type": "code",
      "execution_count": 143,
      "metadata": {
        "id": "uH3h_g1UCZNY"
      },
      "outputs": [],
      "source": [
        "train=pd.read_csv('sign_mnist_train.csv')\n",
        "test=pd.read_csv('sign_mnist_test.csv')"
      ]
    },
    {
      "cell_type": "code",
      "execution_count": 144,
      "metadata": {
        "id": "kHMhh-4IDKmV"
      },
      "outputs": [],
      "source": [
        "train_images=train.values[0:,1:]\n",
        "\n",
        "test_images=test.values[0:,1:]"
      ]
    },
    {
      "cell_type": "code",
      "execution_count": 145,
      "metadata": {
        "id": "2sCflcznJoZO"
      },
      "outputs": [],
      "source": [
        "labels = train.values[0:,0]\n",
        "\n",
        "\n",
        "\n",
        "\n",
        "labels_test = test.values[0:,0]\n"
      ]
    },
    {
      "cell_type": "code",
      "execution_count": 147,
      "metadata": {
        "id": "8PK5gM9CDrx4"
      },
      "outputs": [],
      "source": [
        "train_images=train_images/255\n",
        "train_images=train_images.reshape((27455,28,28,1))\n",
        "\n",
        "test_images=test_images/255\n",
        "\n",
        "test_images=test_images.reshape((7172, 28,28,1))\n"
      ]
    },
    {
      "cell_type": "code",
      "execution_count": 177,
      "metadata": {
        "id": "-iSr-1N_1otI"
      },
      "outputs": [],
      "source": [
        "#setup model\n",
        "model = keras.Sequential([\n",
        "   \n",
        "    \n",
        "    keras.layers.Conv2D(kernel_size=3, filters=32, use_bias=False, padding='same', input_shape=(28, 28 , 1)),\n",
        "    keras.layers.BatchNormalization(center=True, scale=False),\n",
        "    keras.layers.Activation('relu'),\n",
        "    \n",
        "    \n",
        "    keras.layers.MaxPooling2D(pool_size=(2, 2), strides=2),\n",
        "    \n",
        "    \n",
        "    \n",
        "    keras.layers.Conv2D(kernel_size=6, filters=64, use_bias=False, padding='same', strides=2),\n",
        "    keras.layers.BatchNormalization(center=True, scale=False),\n",
        "    keras.layers.Activation('relu'),\n",
        "    \n",
        "    keras.layers.MaxPooling2D(pool_size=(2, 2), strides=2),\n",
        "    \n",
        "   \n",
        "    \n",
        "    keras.layers.Conv2D(kernel_size=6, filters=64, use_bias=False, padding='same', strides=2),\n",
        "    keras.layers.BatchNormalization(center=True, scale=False),\n",
        "    keras.layers.Activation('relu'),\n",
        "    \n",
        "        \n",
        "    \n",
        "    keras.layers.MaxPooling2D(pool_size=(2, 2), strides=2),\n",
        "    \n",
        "   \n",
        "    \n",
        "    keras.layers.Flatten(),\n",
        "    \n",
        "\n",
        "    \n",
        "    keras.layers.Dense(64, use_bias=False),\n",
        "    keras.layers.Activation('relu'),\n",
        "    keras.layers.Dropout(0.3),\n",
        "    keras.layers.Dense(25, activation = tf.nn.softmax)\n",
        "])"
      ]
    },
    {
      "cell_type": "code",
      "execution_count": 178,
      "metadata": {
        "id": "JymcotIz1otJ"
      },
      "outputs": [],
      "source": [
        "#compile model\n",
        "model.compile(optimizer=tf.keras.optimizers.Adam(learning_rate=0.01),\n",
        "          loss='sparse_categorical_crossentropy',\n",
        "          metrics=['accuracy'])"
      ]
    },
    {
      "cell_type": "code",
      "execution_count": 179,
      "metadata": {
        "id": "i9-jct_11otK"
      },
      "outputs": [],
      "source": [
        "def lr_decay(epoch):\n",
        "    return 0.01*math.pow(0.6, epoch)\n",
        "\n",
        "lr_decay_callback=tf.keras.callbacks.LearningRateScheduler(lr_decay)"
      ]
    },
    {
      "cell_type": "code",
      "execution_count": 180,
      "metadata": {
        "colab": {
          "base_uri": "https://localhost:8080/"
        },
        "id": "xpnI-sHH1otK",
        "outputId": "c55d74b5-aac5-4193-d4ad-eeea6a8075e4"
      },
      "outputs": [
        {
          "name": "stdout",
          "output_type": "stream",
          "text": [
            "Epoch 1/6\n",
            "387/387 [==============================] - 12s 30ms/step - loss: 1.5094 - accuracy: 0.4912 - val_loss: 3.1681 - val_accuracy: 0.1173\n",
            "Epoch 2/6\n",
            "387/387 [==============================] - 11s 29ms/step - loss: 0.2294 - accuracy: 0.9198 - val_loss: 0.0590 - val_accuracy: 0.9876\n",
            "Epoch 3/6\n",
            "387/387 [==============================] - 12s 32ms/step - loss: 0.1062 - accuracy: 0.9644 - val_loss: 0.0245 - val_accuracy: 0.9927\n",
            "Epoch 4/6\n",
            "387/387 [==============================] - 11s 29ms/step - loss: 0.0834 - accuracy: 0.9720 - val_loss: 0.0029 - val_accuracy: 0.9993\n",
            "Epoch 5/6\n",
            "387/387 [==============================] - 11s 29ms/step - loss: 0.0622 - accuracy: 0.9773 - val_loss: 7.7768e-04 - val_accuracy: 1.0000\n",
            "Epoch 6/6\n",
            "387/387 [==============================] - 11s 29ms/step - loss: 0.0500 - accuracy: 0.9819 - val_loss: 4.8021e-04 - val_accuracy: 1.0000\n"
          ]
        },
        {
          "data": {
            "text/plain": [
              "<keras.callbacks.History at 0x7fceda376cd0>"
            ]
          },
          "execution_count": 180,
          "metadata": {},
          "output_type": "execute_result"
        }
      ],
      "source": [
        "#train model\n",
        "model.fit(train_images, labels, validation_split=0.1, epochs=6, batch_size=64, callbacks=[lr_decay_callback])"
      ]
    },
    {
      "cell_type": "code",
      "execution_count": 181,
      "metadata": {
        "colab": {
          "base_uri": "https://localhost:8080/"
        },
        "id": "kojWLlkY1otL",
        "outputId": "a9688b5c-ec3d-4691-a0bb-05d0d31372e3"
      },
      "outputs": [
        {
          "name": "stdout",
          "output_type": "stream",
          "text": [
            "225/225 [==============================] - 1s 5ms/step - loss: 0.2961 - accuracy: 0.9320\n",
            "\n",
            "Test accuracy: 0.9319576025009155\n"
          ]
        }
      ],
      "source": [
        "#evaluate\n",
        "test_loss, test_acc = model.evaluate(test_images,  labels_test)\n",
        "print('\\nTest accuracy:', test_acc)"
      ]
    },
    {
      "cell_type": "code",
      "execution_count": 182,
      "metadata": {
        "colab": {
          "base_uri": "https://localhost:8080/"
        },
        "id": "Pzb7CCErMxkC",
        "outputId": "1fdf2e2c-cfec-4c31-e55e-f30c940afe91"
      },
      "outputs": [
        {
          "name": "stdout",
          "output_type": "stream",
          "text": [
            "Baseline test accuracy: 0.9319576025009155\n",
            "Saving model to:  /tmp/tmpe6a_rpe7.h5\n"
          ]
        }
      ],
      "source": [
        "_, baseline_model_accuracy = model.evaluate(\n",
        "    test_images, labels_test, verbose=0)\n",
        "\n",
        "print('Baseline test accuracy:', baseline_model_accuracy)\n",
        "\n",
        "_, keras_file = tempfile.mkstemp('.h5')\n",
        "print('Saving model to: ', keras_file)\n",
        "tf.keras.models.save_model(model, keras_file, include_optimizer=False)"
      ]
    },
    {
      "cell_type": "code",
      "execution_count": 183,
      "metadata": {
        "colab": {
          "base_uri": "https://localhost:8080/"
        },
        "id": "zvqGWKQgM2ma",
        "outputId": "4f3aed17-bcc3-48af-8fc9-004a04668661"
      },
      "outputs": [
        {
          "name": "stdout",
          "output_type": "stream",
          "text": [
            "Model: \"sequential_9\"\n",
            "_________________________________________________________________\n",
            "Layer (type)                 Output Shape              Param #   \n",
            "=================================================================\n",
            "cluster_conv2d_27 (ClusterWe (None, 28, 28, 32)        592       \n",
            "_________________________________________________________________\n",
            "cluster_batch_normalization_ (None, 28, 28, 32)        96        \n",
            "_________________________________________________________________\n",
            "cluster_activation_46 (Clust (None, 28, 28, 32)        0         \n",
            "_________________________________________________________________\n",
            "cluster_max_pooling2d_27 (Cl (None, 14, 14, 32)        0         \n",
            "_________________________________________________________________\n",
            "cluster_conv2d_28 (ClusterWe (None, 7, 7, 64)          147472    \n",
            "_________________________________________________________________\n",
            "cluster_batch_normalization_ (None, 7, 7, 64)          192       \n",
            "_________________________________________________________________\n",
            "cluster_activation_47 (Clust (None, 7, 7, 64)          0         \n",
            "_________________________________________________________________\n",
            "cluster_max_pooling2d_28 (Cl (None, 3, 3, 64)          0         \n",
            "_________________________________________________________________\n",
            "cluster_conv2d_29 (ClusterWe (None, 2, 2, 64)          294928    \n",
            "_________________________________________________________________\n",
            "cluster_batch_normalization_ (None, 2, 2, 64)          192       \n",
            "_________________________________________________________________\n",
            "cluster_activation_48 (Clust (None, 2, 2, 64)          0         \n",
            "_________________________________________________________________\n",
            "cluster_max_pooling2d_29 (Cl (None, 1, 1, 64)          0         \n",
            "_________________________________________________________________\n",
            "cluster_flatten_9 (ClusterWe (None, 64)                0         \n",
            "_________________________________________________________________\n",
            "cluster_dense_28 (ClusterWei (None, 64)                8208      \n",
            "_________________________________________________________________\n",
            "cluster_activation_49 (Clust (None, 64)                0         \n",
            "_________________________________________________________________\n",
            "cluster_dropout_19 (ClusterW (None, 64)                0         \n",
            "_________________________________________________________________\n",
            "cluster_dense_29 (ClusterWei (None, 25)                3241      \n",
            "=================================================================\n",
            "Total params: 454,921\n",
            "Trainable params: 227,433\n",
            "Non-trainable params: 227,488\n",
            "_________________________________________________________________\n"
          ]
        }
      ],
      "source": [
        "import tensorflow_model_optimization as tfmot\n",
        "\n",
        "cluster_weights = tfmot.clustering.keras.cluster_weights\n",
        "CentroidInitialization = tfmot.clustering.keras.CentroidInitialization\n",
        "\n",
        "clustering_params = {\n",
        "  'number_of_clusters': 16,\n",
        "  'cluster_centroids_init': CentroidInitialization.LINEAR\n",
        "}\n",
        "\n",
        "\n",
        "clustered_model = cluster_weights(model, **clustering_params)\n",
        "\n",
        "\n",
        "opt = tf.keras.optimizers.Adam(learning_rate=0.01)\n",
        "\n",
        "clustered_model.compile(\n",
        "  loss=tf.keras.losses.SparseCategoricalCrossentropy(from_logits=True),\n",
        "  optimizer=opt,\n",
        "  metrics=['accuracy'])\n",
        "\n",
        "clustered_model.summary()"
      ]
    },
    {
      "cell_type": "code",
      "execution_count": 186,
      "metadata": {
        "colab": {
          "base_uri": "https://localhost:8080/"
        },
        "id": "TQaDN5mlNL8R",
        "outputId": "e4736c82-4c65-4d45-9cf9-5afa3c7a4b86"
      },
      "outputs": [
        {
          "name": "stdout",
          "output_type": "stream",
          "text": [
            "Epoch 1/6\n",
            "387/387 [==============================] - 11s 28ms/step - loss: 2.4203 - accuracy: 0.8655 - val_loss: 2.4614 - val_accuracy: 0.8230\n",
            "Epoch 2/6\n",
            "387/387 [==============================] - 11s 29ms/step - loss: 2.3390 - accuracy: 0.9466 - val_loss: 2.3466 - val_accuracy: 0.9381\n",
            "Epoch 3/6\n",
            "387/387 [==============================] - 11s 29ms/step - loss: 2.3069 - accuracy: 0.9784 - val_loss: 2.2901 - val_accuracy: 0.9953\n",
            "Epoch 4/6\n",
            "387/387 [==============================] - 11s 29ms/step - loss: 2.2896 - accuracy: 0.9958 - val_loss: 2.2873 - val_accuracy: 0.9978\n",
            "Epoch 5/6\n",
            "387/387 [==============================] - 11s 28ms/step - loss: 2.2865 - accuracy: 0.9989 - val_loss: 2.2861 - val_accuracy: 0.9993\n",
            "Epoch 6/6\n",
            "387/387 [==============================] - 11s 28ms/step - loss: 2.2855 - accuracy: 0.9998 - val_loss: 2.2853 - val_accuracy: 1.0000\n"
          ]
        },
        {
          "data": {
            "text/plain": [
              "<keras.callbacks.History at 0x7fceda970ad0>"
            ]
          },
          "execution_count": 186,
          "metadata": {},
          "output_type": "execute_result"
        }
      ],
      "source": [
        "# Fine-tune model\n",
        "clustered_model.fit(\n",
        "  train_images,\n",
        "  labels,\n",
        "  batch_size=64,\n",
        "  epochs=6,\n",
        "  validation_split=0.1,\n",
        "  callbacks=[lr_decay_callback])"
      ]
    },
    {
      "cell_type": "code",
      "execution_count": 187,
      "metadata": {
        "colab": {
          "base_uri": "https://localhost:8080/"
        },
        "id": "bwkvSdLdNT-p",
        "outputId": "0cbf8595-5672-42ef-db88-2cfeba6b885d"
      },
      "outputs": [
        {
          "name": "stdout",
          "output_type": "stream",
          "text": [
            "Baseline test accuracy: 0.9319576025009155\n",
            "Clustered test accuracy: 0.9277746677398682\n"
          ]
        }
      ],
      "source": [
        "_, clustered_model_accuracy = clustered_model.evaluate(\n",
        "  test_images, labels_test, verbose=0)\n",
        "\n",
        "print('Baseline test accuracy:', baseline_model_accuracy)\n",
        "print('Clustered test accuracy:', clustered_model_accuracy)"
      ]
    },
    {
      "cell_type": "code",
      "execution_count": 188,
      "metadata": {
        "colab": {
          "base_uri": "https://localhost:8080/"
        },
        "id": "FdDx4eUoRGDB",
        "outputId": "0de07231-6a06-4669-c347-cd4968bd06e1"
      },
      "outputs": [
        {
          "name": "stdout",
          "output_type": "stream",
          "text": [
            "Saving clustered model to:  /tmp/tmp5gzdl6og.h5\n",
            "WARNING:tensorflow:Compiled the loaded model, but the compiled metrics have yet to be built. `model.compile_metrics` will be empty until you train or evaluate the model.\n"
          ]
        },
        {
          "name": "stderr",
          "output_type": "stream",
          "text": [
            "WARNING:tensorflow:Compiled the loaded model, but the compiled metrics have yet to be built. `model.compile_metrics` will be empty until you train or evaluate the model.\n"
          ]
        }
      ],
      "source": [
        "final_model = tfmot.clustering.keras.strip_clustering(clustered_model)\n",
        "\n",
        "_, clustered_keras_file = tempfile.mkstemp('.h5')\n",
        "print('Saving clustered model to: ', clustered_keras_file)\n",
        "tf.keras.models.save_model(final_model, clustered_keras_file, \n",
        "                           include_optimizer=False)"
      ]
    },
    {
      "cell_type": "code",
      "execution_count": 189,
      "metadata": {
        "colab": {
          "base_uri": "https://localhost:8080/"
        },
        "id": "1DFwiuCRRHL3",
        "outputId": "13d35b23-4a6d-43ae-f5a8-afbeab6391da"
      },
      "outputs": [
        {
          "name": "stdout",
          "output_type": "stream",
          "text": [
            "WARNING:tensorflow:Compiled the loaded model, but the compiled metrics have yet to be built. `model.compile_metrics` will be empty until you train or evaluate the model.\n"
          ]
        },
        {
          "name": "stderr",
          "output_type": "stream",
          "text": [
            "WARNING:tensorflow:Compiled the loaded model, but the compiled metrics have yet to be built. `model.compile_metrics` will be empty until you train or evaluate the model.\n"
          ]
        },
        {
          "name": "stdout",
          "output_type": "stream",
          "text": [
            "INFO:tensorflow:Assets written to: /tmp/tmpjk6w5k4y/assets\n"
          ]
        },
        {
          "name": "stderr",
          "output_type": "stream",
          "text": [
            "INFO:tensorflow:Assets written to: /tmp/tmpjk6w5k4y/assets\n"
          ]
        },
        {
          "name": "stdout",
          "output_type": "stream",
          "text": [
            "Saved clustered TFLite model to: /tmp/clustered_mnist.tflite\n"
          ]
        }
      ],
      "source": [
        "clustered_tflite_file = '/tmp/clustered_mnist.tflite'\n",
        "converter = tf.lite.TFLiteConverter.from_keras_model(final_model)\n",
        "tflite_clustered_model = converter.convert()\n",
        "with open(clustered_tflite_file, 'wb') as f:\n",
        "  f.write(tflite_clustered_model)\n",
        "print('Saved clustered TFLite model to:', clustered_tflite_file)"
      ]
    },
    {
      "cell_type": "code",
      "execution_count": 190,
      "metadata": {
        "id": "EieTCSq3RM5o"
      },
      "outputs": [],
      "source": [
        "def get_gzipped_model_size(file):\n",
        "  # It returns the size of the gzipped model in bytes.\n",
        "  import os\n",
        "  import zipfile\n",
        "\n",
        "  _, zipped_file = tempfile.mkstemp('.zip')\n",
        "  with zipfile.ZipFile(zipped_file, 'w', compression=zipfile.ZIP_DEFLATED) as f:\n",
        "    f.write(file)\n",
        "\n",
        "  return os.path.getsize(zipped_file)"
      ]
    },
    {
      "cell_type": "code",
      "execution_count": 191,
      "metadata": {
        "colab": {
          "base_uri": "https://localhost:8080/"
        },
        "id": "Og9ssFTzRP9n",
        "outputId": "658c8ed4-9319-421b-ed86-52289a10b184"
      },
      "outputs": [
        {
          "name": "stdout",
          "output_type": "stream",
          "text": [
            "Size of gzipped baseline Keras model: 847758.00 bytes\n",
            "Size of gzipped clustered Keras model: 97950.00 bytes\n",
            "Size of gzipped clustered TFlite model: 105926.00 bytes\n"
          ]
        }
      ],
      "source": [
        "print(\"Size of gzipped baseline Keras model: %.2f bytes\" % (get_gzipped_model_size(keras_file)))\n",
        "print(\"Size of gzipped clustered Keras model: %.2f bytes\" % (get_gzipped_model_size(clustered_keras_file)))\n",
        "print(\"Size of gzipped clustered TFlite model: %.2f bytes\" % (get_gzipped_model_size(clustered_tflite_file)))"
      ]
    },
    {
      "cell_type": "code",
      "execution_count": 192,
      "metadata": {
        "colab": {
          "base_uri": "https://localhost:8080/"
        },
        "id": "S9Bs3GIzRTyV",
        "outputId": "4a5dd820-0f48-4cb3-ae0a-b062643d4a70"
      },
      "outputs": [
        {
          "name": "stdout",
          "output_type": "stream",
          "text": [
            "WARNING:tensorflow:Compiled the loaded model, but the compiled metrics have yet to be built. `model.compile_metrics` will be empty until you train or evaluate the model.\n"
          ]
        },
        {
          "name": "stderr",
          "output_type": "stream",
          "text": [
            "WARNING:tensorflow:Compiled the loaded model, but the compiled metrics have yet to be built. `model.compile_metrics` will be empty until you train or evaluate the model.\n"
          ]
        },
        {
          "name": "stdout",
          "output_type": "stream",
          "text": [
            "INFO:tensorflow:Assets written to: /tmp/tmp28y67_0l/assets\n"
          ]
        },
        {
          "name": "stderr",
          "output_type": "stream",
          "text": [
            "INFO:tensorflow:Assets written to: /tmp/tmp28y67_0l/assets\n"
          ]
        },
        {
          "name": "stdout",
          "output_type": "stream",
          "text": [
            "Saved quantized and clustered TFLite model to: /tmp/tmpsz85zqos.tflite\n",
            "Size of gzipped baseline Keras model: 847758.00 bytes\n",
            "Size of gzipped clustered and quantized TFlite model: 83309.00 bytes\n"
          ]
        }
      ],
      "source": [
        "converter = tf.lite.TFLiteConverter.from_keras_model(final_model)\n",
        "converter.optimizations = [tf.lite.Optimize.DEFAULT]\n",
        "tflite_quant_model = converter.convert()\n",
        "\n",
        "_, quantized_and_clustered_tflite_file = tempfile.mkstemp('.tflite')\n",
        "\n",
        "with open(quantized_and_clustered_tflite_file, 'wb') as f:\n",
        "  f.write(tflite_quant_model)\n",
        "\n",
        "print('Saved quantized and clustered TFLite model to:', quantized_and_clustered_tflite_file)\n",
        "print(\"Size of gzipped baseline Keras model: %.2f bytes\" % (get_gzipped_model_size(keras_file)))\n",
        "print(\"Size of gzipped clustered and quantized TFlite model: %.2f bytes\" % (get_gzipped_model_size(quantized_and_clustered_tflite_file)))"
      ]
    },
    {
      "cell_type": "code",
      "execution_count": 196,
      "metadata": {
        "id": "tXA5gJkFRnXQ"
      },
      "outputs": [],
      "source": [
        "def eval_model(interpreter):\n",
        "  input_index = interpreter.get_input_details()[0][\"index\"]\n",
        "  output_index = interpreter.get_output_details()[0][\"index\"]\n",
        "\n",
        "\n",
        "  prediction_digits = []\n",
        "  for i, test_image in enumerate(test_images):\n",
        "    if i % 1000 == 0:\n",
        "      print('Evaluated on {n} results so far.'.format(n=i))\n",
        "    \n",
        "    test_image = np.expand_dims(test_image, axis=0).astype(np.float32)\n",
        "    interpreter.set_tensor(input_index, test_image)\n",
        "\n",
        "    .\n",
        "    interpreter.invoke()\n",
        "\n",
        "  \n",
        "    output = interpreter.tensor(output_index)\n",
        "    digit = np.argmax(output()[0])\n",
        "    prediction_digits.append(digit)\n",
        "\n",
        "  print('\\n')\n",
        " \n",
        "  prediction_digits = np.array(prediction_digits)\n",
        "  accuracy = (prediction_digits == labels_test).mean()\n",
        "  return accuracy"
      ]
    },
    {
      "cell_type": "code",
      "execution_count": 197,
      "metadata": {
        "colab": {
          "base_uri": "https://localhost:8080/"
        },
        "id": "hZ1q1biyRslx",
        "outputId": "89453ad3-f91f-48e3-d267-20ff7641c8be"
      },
      "outputs": [
        {
          "name": "stdout",
          "output_type": "stream",
          "text": [
            "Evaluated on 0 results so far.\n",
            "Evaluated on 1000 results so far.\n",
            "Evaluated on 2000 results so far.\n",
            "Evaluated on 3000 results so far.\n",
            "Evaluated on 4000 results so far.\n",
            "Evaluated on 5000 results so far.\n",
            "Evaluated on 6000 results so far.\n",
            "Evaluated on 7000 results so far.\n",
            "\n",
            "\n",
            "Clustered and quantized TFLite test_accuracy: 0.9244283324037925\n",
            "Clustered TF test accuracy: 0.9277746677398682\n"
          ]
        }
      ],
      "source": [
        "interpreter = tf.lite.Interpreter(model_content=tflite_quant_model)\n",
        "interpreter.allocate_tensors()\n",
        "\n",
        "test_accuracy = eval_model(interpreter)\n",
        "\n",
        "print('Clustered and quantized TFLite test_accuracy:', test_accuracy)\n",
        "print('Clustered TF test accuracy:', clustered_model_accuracy)"
      ]
    },
    {
      "cell_type": "code",
      "execution_count": 198,
      "metadata": {
        "colab": {
          "base_uri": "https://localhost:8080/"
        },
        "id": "4ssWOfDoS4sY",
        "outputId": "361bf381-d6d8-45c8-d6d0-fffbdf23606b"
      },
      "outputs": [
        {
          "name": "stdout",
          "output_type": "stream",
          "text": [
            "Size of gzipped baseline Keras model: 847758.00 bytes\n",
            "Size of gzipped clustered Keras model: 97950.00 bytes\n",
            "Size of gzipped clustered TFlite model: 105926.00 bytes\n",
            "Size of gzipped quantized and clustered TFlite model: 83309.00 bytes\n"
          ]
        }
      ],
      "source": [
        "print(\"Size of gzipped baseline Keras model: %.2f bytes\" % (get_gzipped_model_size(keras_file)))\n",
        "print(\"Size of gzipped clustered Keras model: %.2f bytes\" % (get_gzipped_model_size(clustered_keras_file)))\n",
        "print(\"Size of gzipped clustered TFlite model: %.2f bytes\" % (get_gzipped_model_size(clustered_tflite_file)))\n",
        "print(\"Size of gzipped quantized and clustered TFlite model: %.2f bytes\" % (get_gzipped_model_size(quantized_and_clustered_tflite_file)))"
      ]
    }
  ],
  "metadata": {
    "accelerator": "TPU",
    "colab": {
      "collapsed_sections": [],
      "machine_shape": "hm",
      "name": "q2 lab 3.ipynb",
      "provenance": []
    },
    "kernelspec": {
      "display_name": "Python 3 (ipykernel)",
      "language": "python",
      "name": "python3"
    },
    "language_info": {
      "codemirror_mode": {
        "name": "ipython",
        "version": 3
      },
      "file_extension": ".py",
      "mimetype": "text/x-python",
      "name": "python",
      "nbconvert_exporter": "python",
      "pygments_lexer": "ipython3",
      "version": "3.9.7"
    }
  },
  "nbformat": 4,
  "nbformat_minor": 0
}
