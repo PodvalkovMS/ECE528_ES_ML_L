{
  "cells": [
    {
      "cell_type": "code",
      "execution_count": null,
      "metadata": {
        "id": "Ekvo-CGb25pc"
      },
      "outputs": [],
      "source": [
        "./maestro --HW_file='data/hw/accelerator_1.m'  --Mapping_file='data/mapping/ResNeXt50_nlr.m'  --print_res=true  --print_res_csv_file=true  --print_log_file=false "
      ]
    },
    {
      "cell_type": "code",
      "execution_count": null,
      "metadata": {
        "id": "1lhM_kBA3qpU"
      },
      "outputs": [],
      "source": [
        "./maestro --HW_file='data/hw/accelerator_1.m'  --Mapping_file='data/mapping/ResNeXt50_rs.m'  --print_res=true  --print_res_csv_file=true  --print_log_file=false"
      ]
    },
    {
      "cell_type": "code",
      "execution_count": null,
      "metadata": {
        "id": "-5iF3Azj47Dc"
      },
      "outputs": [],
      "source": [
        "./maestro --HW_file='data/hw/accelerator_1.m'  --Mapping_file='data/mapping/ResNeXt50_xp_ws.m'  --print_res=true  --print_res_csv_file=true  --print_log_file=false "
      ]
    },
    {
      "cell_type": "code",
      "execution_count": null,
      "metadata": {
        "id": "UPTMorE948ik"
      },
      "outputs": [],
      "source": [
        "./maestro --HW_file='data/hw/accelerator_1.m'  --Mapping_file='data/mapping/ResNeXt50_yxp_os.m'  --print_res=true  --print_res_csv_file=true  --print_log_file=false "
      ]
    },
    {
      "cell_type": "code",
      "execution_count": null,
      "metadata": {
        "id": "9fTY9_QP5lYd"
      },
      "outputs": [],
      "source": [
        "./maestro --HW_file='data/hw/accelerator_1.m'  --Mapping_file='data/mapping/vgg16_nlr.m'  --print_res=true  --print_res_csv_file=true  --print_log_file=false "
      ]
    },
    {
      "cell_type": "code",
      "execution_count": null,
      "metadata": {
        "id": "jqq1NEZj5vDs"
      },
      "outputs": [],
      "source": [
        "./maestro --HW_file='data/hw/accelerator_1.m'  --Mapping_file='data/mapping/vgg16_rs.m'  --print_res=true  --print_res_csv_file=true  --print_log_file=false "
      ]
    },
    {
      "cell_type": "code",
      "execution_count": null,
      "metadata": {
        "id": "0DvilhV057G8"
      },
      "outputs": [],
      "source": [
        "./maestro --HW_file='data/hw/accelerator_1.m'  --Mapping_file='data/mapping/vgg16_xp_ws.m'  --print_res=true  --print_res_csv_file=true  --print_log_file=false"
      ]
    },
    {
      "cell_type": "code",
      "execution_count": null,
      "metadata": {
        "id": "yDj0f3uW6Fo7"
      },
      "outputs": [],
      "source": [
        "./maestro --HW_file='data/hw/accelerator_1.m'  --Mapping_file='data/mapping/vgg16_yxp_os.m'  --print_res=true  --print_res_csv_file=true  --print_log_file=false "
      ]
    }
  ],
  "metadata": {
    "colab": {
      "name": "q1_lab4.ipynb",
      "provenance": []
    },
    "kernelspec": {
      "display_name": "Python 3",
      "name": "python3"
    },
    "language_info": {
      "name": "python"
    }
  },
  "nbformat": 4,
  "nbformat_minor": 0
}
