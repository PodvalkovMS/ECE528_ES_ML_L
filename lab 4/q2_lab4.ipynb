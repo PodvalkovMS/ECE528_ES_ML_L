{
  "cells": [
    {
      "cell_type": "code",
      "execution_count": null,
      "metadata": {
        "id": "Ekvo-CGb25pc"
      },
      "outputs": [],
      "source": [
        "./maestro --HW_file='data/hw/accelerator_1.m'  --Mapping_file='data/mapping/UNet_nlr.m'  --print_res=true  --print_res_csv_file=true  --print_log_file=false  \n",
        "#the best "
      ]
    },
    {
      "cell_type": "code",
      "execution_count": null,
      "metadata": {
        "id": "fot-yhF-TJ1x"
      },
      "outputs": [],
      "source": [
        "./maestro --HW_file='data/hw/accelerator_1.m'  --Mapping_file='data/mapping/UNet_RS.m'  --print_res=true  --print_res_csv_file=true  --print_log_file=false "
      ]
    },
    {
      "cell_type": "code",
      "execution_count": null,
      "metadata": {
        "id": "44JOMmHRTL04"
      },
      "outputs": [],
      "source": [
        "./maestro --HW_file='data/hw/accelerator_1.m'  --Mapping_file='data/mapping/UNet_xp_ws.m'  --print_res=true  --print_res_csv_file=true  --print_log_file=false "
      ]
    },
    {
      "cell_type": "code",
      "execution_count": null,
      "metadata": {
        "id": "UsnQszgQTMwv"
      },
      "outputs": [],
      "source": [
        "./maestro --HW_file='data/hw/accelerator_1.m'  --Mapping_file='data/mapping/UNet_yxp_os.m'  --print_res=true  --print_res_csv_file=true  --print_log_file=false "
      ]
    },
    {
      "cell_type": "code",
      "execution_count": null,
      "metadata": {
        "id": "HLL-PV_oTbkx"
      },
      "outputs": [],
      "source": [
        "./maestro --HW_file='data/hw/accelerator_1.m'  --Mapping_file='data/mapping/UNet_ksp_ws.m'  --print_res=true  --print_res_csv_file=true  --print_log_file=false "
      ]
    },
    {
      "cell_type": "code",
      "execution_count": null,
      "metadata": {
        "id": "RN7kYL9iTn4Y"
      },
      "outputs": [],
      "source": [
        "./maestro --HW_file='data/hw/accelerator_1.m'  --Mapping_file='data/mapping/Resnet50_nlr.m'  --print_res=true  --print_res_csv_file=true  --print_log_file=false \n",
        "#The best"
      ]
    },
    {
      "cell_type": "code",
      "execution_count": null,
      "metadata": {
        "id": "1yjl13I6UJ0R"
      },
      "outputs": [],
      "source": [
        "./maestro --HW_file='data/hw/accelerator_1.m'  --Mapping_file='data/mapping/Resnet50_ksp_ws.m'  --print_res=true  --print_res_csv_file=true  --print_log_file=false "
      ]
    },
    {
      "cell_type": "code",
      "execution_count": null,
      "metadata": {
        "id": "1lhM_kBA3qpU"
      },
      "outputs": [],
      "source": [
        "./maestro --HW_file='data/hw/accelerator_1.m'  --Mapping_file='data/mapping/Resnet50_rs.m'  --print_res=true  --print_res_csv_file=true  --print_log_file=false"
      ]
    },
    {
      "cell_type": "code",
      "execution_count": null,
      "metadata": {
        "id": "-5iF3Azj47Dc"
      },
      "outputs": [],
      "source": [
        "./maestro --HW_file='data/hw/accelerator_1.m'  --Mapping_file='data/mapping/Resnet50_xp_ws.m'  --print_res=true  --print_res_csv_file=true  --print_log_file=false "
      ]
    },
    {
      "cell_type": "code",
      "execution_count": null,
      "metadata": {
        "id": "UPTMorE948ik"
      },
      "outputs": [],
      "source": [
        "./maestro --HW_file='data/hw/accelerator_1.m'  --Mapping_file='data/mapping/Resnet50_yxp_os.m'  --print_res=true  --print_res_csv_file=true  --print_log_file=false "
      ]
    },
    {
      "cell_type": "code",
      "execution_count": null,
      "metadata": {},
      "outputs": [],
      "source": [
        "#The configuration of Resnet50 and Unet the same"
      ]
    }
  ],
  "metadata": {
    "colab": {
      "name": "q2_lab4.ipynb",
      "provenance": []
    },
    "kernelspec": {
      "display_name": "Python 3",
      "name": "python3"
    },
    "language_info": {
      "name": "python"
    }
  },
  "nbformat": 4,
  "nbformat_minor": 0
}
